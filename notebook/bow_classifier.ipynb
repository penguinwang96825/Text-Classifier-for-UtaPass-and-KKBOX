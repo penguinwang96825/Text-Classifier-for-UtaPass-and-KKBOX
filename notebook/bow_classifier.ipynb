{
 "cells": [
  {
   "cell_type": "code",
   "execution_count": 1,
   "metadata": {},
   "outputs": [],
   "source": [
    "import MeCab\n",
    "import numpy as np\n",
    "import pandas as pd\n",
    "import matplotlib.pyplot as plt\n",
    "from sklearn.model_selection import train_test_split\n",
    "from sklearn.neighbors import KNeighborsClassifier\n",
    "from sklearn.ensemble import ExtraTreesClassifier \n",
    "from sklearn.ensemble import RandomForestClassifier\n",
    "from sklearn.tree import DecisionTreeClassifier\n",
    "from sklearn.ensemble import VotingClassifier\n",
    "from sklearn.metrics import confusion_matrix\n",
    "from sklearn.metrics import f1_score\n",
    "from gensim.models import KeyedVectors\n",
    "from gensim.models.word2vec import Word2Vec\n",
    "from xgboost import XGBClassifier\n",
    "from collections import Counter\n",
    "\n",
    "plt.style.use('seaborn-paper')"
   ]
  },
  {
   "cell_type": "code",
   "execution_count": 2,
   "metadata": {},
   "outputs": [],
   "source": [
    "df = pd.read_csv(r\"C:\\Users\\YangWang\\Desktop\\Text_Classifier_for_UtaPass_and_KKBOX\\data\\reviews_kkstream.csv\")\n",
    "df = df[[\"Review Body\", \"Reviewer Ratings\"]]\n",
    "df.columns = [\"content\", \"label\"]\n",
    "df[\"label\"] = df[\"label\"].map(lambda x: 1 if int(x)>3 else 0)"
   ]
  },
  {
   "cell_type": "code",
   "execution_count": 3,
   "metadata": {},
   "outputs": [
    {
     "name": "stdout",
     "output_type": "stream",
     "text": [
      "Cumulative %   # Words  # Comments\n",
      " 80.57778   \t  30 \t    24\n",
      " 85.33333   \t  36 \t    22\n",
      " 90.31111   \t  46 \t    11\n",
      " 92.17778   \t  52 \t    6\n",
      " 95.02222   \t  60 \t    7\n"
     ]
    }
   ],
   "source": [
    "df[\"length\"] = df[\"content\"].map(len)\n",
    "text_len = df[\"length\"].values\n",
    "max_len = text_len.max()\n",
    "\n",
    "len_sum = [0] * max_len\n",
    "for i in text_len:\n",
    "    len_sum[i-1] += 1\n",
    "    \n",
    "len_cum = [len_sum[0]] + [0] * (max_len-1)\n",
    "for i in range(1, max_len):\n",
    "    len_cum[i] += len_sum[i] + len_cum[i-1]\n",
    "\n",
    "print('Cumulative %   # Words  # Comments')\n",
    "for i in range(max_len):\n",
    "    len_cum[i] /= len(text_len)\n",
    "    if len_sum[i] != 0:\n",
    "        if (len_cum[i] >= 0.8 and len_cum[i-1] < 0.8):\n",
    "            print(' %.5f   \\t  %d \\t    %d'%(len_cum[i]*100, i, len_sum[i]))\n",
    "        if (len_cum[i] >= 0.85 and len_cum[i-1] < 0.85):\n",
    "            print(' %.5f   \\t  %d \\t    %d'%(len_cum[i]*100, i, len_sum[i]))\n",
    "        if (len_cum[i] >= 0.9 and len_cum[i-1] < 0.9):\n",
    "            print(' %.5f   \\t  %d \\t    %d'%(len_cum[i]*100, i, len_sum[i]))\n",
    "        if (len_cum[i] >= 0.92 and len_cum[i-1] < 0.92):\n",
    "            print(' %.5f   \\t  %d \\t    %d'%(len_cum[i]*100, i, len_sum[i]))\n",
    "        if (len_cum[i] >= 0.95 and len_cum[i-1] < 0.95):\n",
    "            print(' %.5f   \\t  %d \\t    %d'%(len_cum[i]*100, i, len_sum[i]))"
   ]
  },
  {
   "cell_type": "code",
   "execution_count": 4,
   "metadata": {},
   "outputs": [
    {
     "data": {
      "text/plain": [
       "<matplotlib.axes._subplots.AxesSubplot at 0x1b10c7b1978>"
      ]
     },
     "execution_count": 4,
     "metadata": {},
     "output_type": "execute_result"
    },
    {
     "data": {
      "image/png": "[encoded data removed]",
      "text/plain": [
       "<Figure size 576x288 with 1 Axes>"
      ]
     },
     "metadata": {
      "needs_background": "light"
     },
     "output_type": "display_data"
    }
   ],
   "source": [
    "df[\"length\"].plot(kind=\"hist\", \n",
    "                  title=\"Sentence Length Distribution\", \n",
    "                  range=(0, 100), \n",
    "                  figsize=(8, 4))"
   ]
  },
  {
   "cell_type": "code",
   "execution_count": 5,
   "metadata": {},
   "outputs": [],
   "source": [
    "df = df[df[\"length\"] >= 10]\n",
    "train, test = train_test_split(df, train_size=0.5, random_state=17)"
   ]
  },
  {
   "cell_type": "code",
   "execution_count": 6,
   "metadata": {},
   "outputs": [],
   "source": [
    "def create_mecab_list(text=None):\n",
    "    pos_list = [10, 11, 31, 32, 34]\n",
    "    pos_list.extend(list(range(36,50)))\n",
    "    pos_list.extend([59, 60, 62, 67])\n",
    "\n",
    "    mecab_list = []\n",
    "    mecab = MeCab.Tagger(\"-Ochasen\")\n",
    "    mecab.parse(\"\")\n",
    "    # encoding = text.encode('utf-8')\n",
    "    node = mecab.parseToNode(text)\n",
    "    while node:\n",
    "        if len(node.surface) > 1:\n",
    "            if node.posid in pos_list:\n",
    "                morpheme = node.surface\n",
    "                mecab_list.append(morpheme)\n",
    "        node = node.next\n",
    "    return mecab_list"
   ]
  },
  {
   "cell_type": "code",
   "execution_count": 7,
   "metadata": {},
   "outputs": [],
   "source": [
    "class Word2VecVectorizer:\n",
    "    def __init__(self):\n",
    "        print(\"Loading word vectors...\")\n",
    "        self.w2v = Word2Vec.load(r\"C:\\Users\\YangWang\\Desktop\\Text_Classifier_for_UtaPass_and_KKBOX\\word2vec\\ja.bin\")\n",
    "        print(\"Finished loading in word vectors.\")\n",
    "        \n",
    "    def fit(self, data):\n",
    "        pass\n",
    "    \n",
    "    def transform(self, data):\n",
    "        v = self.w2v.wv.get_vector(\"の\")\n",
    "        self.D = v.shape[0]\n",
    "        \n",
    "        X = np.zeros((len(data), self.D))\n",
    "        n = 0\n",
    "        emptycount = 0\n",
    "        for sentence in data:\n",
    "            tokens = create_mecab_list(sentence)\n",
    "            vecs = []\n",
    "            m = 0\n",
    "            for word in tokens:\n",
    "                try: \n",
    "                    vec = self.w2v.wv.get_vector(word)\n",
    "                    vecs.append(vec)\n",
    "                    m += 1\n",
    "                except KeyError:\n",
    "                    pass\n",
    "            if len(vecs) > 0:\n",
    "                vecs = np.array(vecs)\n",
    "                X[n] = vecs.mean(axis=0)\n",
    "            else:\n",
    "                emptycount += 1\n",
    "            n += 1\n",
    "        print(\"Number of samples with no words found: %s / %s\" % (emptycount, len(data)))\n",
    "        return X\n",
    "    \n",
    "    def fit_transform(self, data):\n",
    "        self.fit(data)\n",
    "        return self.transform(data)"
   ]
  },
  {
   "cell_type": "code",
   "execution_count": 8,
   "metadata": {},
   "outputs": [
    {
     "name": "stdout",
     "output_type": "stream",
     "text": [
      "Loading word vectors...\n",
      "Finished loading in word vectors.\n",
      "Number of samples with no words found: 53 / 721\n",
      "Number of samples with no words found: 52 / 721\n"
     ]
    }
   ],
   "source": [
    "vectorizer = Word2VecVectorizer()\n",
    "x_train = vectorizer.fit_transform(train.content)\n",
    "y_train = train.label\n",
    "\n",
    "x_test = vectorizer.fit_transform(test.content)\n",
    "y_test = test.label"
   ]
  },
  {
   "cell_type": "code",
   "execution_count": 9,
   "metadata": {},
   "outputs": [
    {
     "name": "stdout",
     "output_type": "stream",
     "text": [
      "# of training data: 721\n",
      "# of features: 300\n"
     ]
    },
    {
     "data": {
      "text/plain": [
       "array([[-1.30616355,  0.35006583,  0.10138483, ..., -0.26193544,\n",
       "         0.44660771,  0.11711761],\n",
       "       [-1.24672151, -0.43644291,  1.84824848, ..., -0.19403046,\n",
       "         0.50636667, -0.50846994],\n",
       "       [ 0.06402481, -0.2033734 , -0.93853742, ...,  1.11359704,\n",
       "         0.4840554 ,  0.22776853],\n",
       "       ...,\n",
       "       [-0.42218745, -0.27521798,  0.75327069, ...,  1.23346412,\n",
       "        -0.69093657, -0.4369345 ],\n",
       "       [-1.07482326,  0.30923462,  0.65014231, ...,  0.90188652,\n",
       "        -0.29094309, -0.70689541],\n",
       "       [-1.65390456,  0.21262589,  0.78621626, ...,  1.06683433,\n",
       "         0.50084603,  0.67041457]])"
      ]
     },
     "execution_count": 9,
     "metadata": {},
     "output_type": "execute_result"
    }
   ],
   "source": [
    "print(\"# of training data: {}\\n# of features: {}\".format(x_train.shape[0], x_train.shape[1]))\n",
    "x_train"
   ]
  },
  {
   "cell_type": "code",
   "execution_count": 10,
   "metadata": {},
   "outputs": [],
   "source": [
    "def performance(model, x_train, y_train, x_test, y_test):\n",
    "    print(\"train score: \", round(model.score(x_train, y_train), 4))\n",
    "    print(\"test score: \", round(model.score(x_test, y_test), 4))\n",
    "    print(\"f-beta score: \", round(f1_score(y_test, model.predict(x_test)), 4))\n",
    "    print(\"confusion matrix: \\n\", confusion_matrix(y_test, model.predict(x_test)))"
   ]
  },
  {
   "cell_type": "code",
   "execution_count": 11,
   "metadata": {},
   "outputs": [
    {
     "name": "stdout",
     "output_type": "stream",
     "text": [
      "train score:  0.9473\n",
      "test score:  0.6879\n",
      "f-beta score:  0.5631\n",
      "confusion matrix: \n",
      " [[351  88]\n",
      " [137 145]]\n"
     ]
    }
   ],
   "source": [
    "rfc_model = RandomForestClassifier(\n",
    "    n_estimators=200, \n",
    "    random_state=17)\n",
    "rfc_model.fit(x_train, y_train)\n",
    "performance(rfc_model, x_train, y_train, x_test, y_test)"
   ]
  },
  {
   "cell_type": "code",
   "execution_count": 12,
   "metadata": {},
   "outputs": [
    {
     "name": "stdout",
     "output_type": "stream",
     "text": [
      "train score:  0.7074\n",
      "test score:  0.6477\n",
      "f-beta score:  0.5\n",
      "confusion matrix: \n",
      " [[340  99]\n",
      " [155 127]]\n"
     ]
    }
   ],
   "source": [
    "knn_model = KNeighborsClassifier(\n",
    "    n_neighbors=10)\n",
    "knn_model.fit(x_train, y_train)\n",
    "performance(knn_model, x_train, y_train, x_test, y_test)"
   ]
  },
  {
   "cell_type": "code",
   "execution_count": 13,
   "metadata": {},
   "outputs": [
    {
     "name": "stdout",
     "output_type": "stream",
     "text": [
      "train score:  0.8974\n",
      "test score:  0.6685\n",
      "f-beta score:  0.5631\n",
      "confusion matrix: \n",
      " [[328 111]\n",
      " [128 154]]\n"
     ]
    }
   ],
   "source": [
    "xgb_model = XGBClassifier(\n",
    "    learning_rate=0.01, \n",
    "    n_estimators=200, \n",
    "    max_depth=4, \n",
    "    min_child_weight = 1, \n",
    "    gamma=0., \n",
    "    subsample=1, \n",
    "    colsample_btree=1, \n",
    "    scale_pos_weight=1, \n",
    "    random_state=17, \n",
    "    slient = 0)\n",
    "xgb_model.fit(x_train, y_train)\n",
    "performance(xgb_model, x_train, y_train, x_test, y_test)"
   ]
  },
  {
   "cell_type": "code",
   "execution_count": 14,
   "metadata": {},
   "outputs": [
    {
     "name": "stdout",
     "output_type": "stream",
     "text": [
      "train score:  0.9473\n",
      "test score:  0.6713\n",
      "f-beta score:  0.5212\n",
      "confusion matrix: \n",
      " [[355  84]\n",
      " [153 129]]\n"
     ]
    }
   ],
   "source": [
    "etc_model = ExtraTreesClassifier(\n",
    "    n_estimators=200,\n",
    "    criterion='gini', \n",
    "    random_state=17)\n",
    "etc_model.fit(x_train, y_train)\n",
    "performance(etc_model, x_train, y_train, x_test, y_test)"
   ]
  },
  {
   "cell_type": "code",
   "execution_count": 15,
   "metadata": {},
   "outputs": [
    {
     "name": "stdout",
     "output_type": "stream",
     "text": [
      "train score:  0.767\n",
      "test score:  0.638\n",
      "f-beta score:  0.4932\n",
      "confusion matrix: \n",
      " [[333 106]\n",
      " [155 127]]\n"
     ]
    }
   ],
   "source": [
    "dtc_model = DecisionTreeClassifier(\n",
    "    max_depth=5, \n",
    "    criterion='gini', \n",
    "    random_state=17)\n",
    "dtc_model.fit(x_train, y_train)\n",
    "performance(dtc_model, x_train, y_train, x_test, y_test)"
   ]
  },
  {
   "cell_type": "code",
   "execution_count": 16,
   "metadata": {},
   "outputs": [
    {
     "name": "stdout",
     "output_type": "stream",
     "text": [
      "train score:  0.9473\n",
      "test score:  0.656\n",
      "f-beta score:  0.5321\n",
      "confusion matrix: \n",
      " [[332 107]\n",
      " [141 141]]\n"
     ]
    }
   ],
   "source": [
    "eclf = VotingClassifier(\n",
    "    estimators=[('rfc', rfc_model), ('xgb', xgb_model), ('etc', etc_model), ('dtc', dtc_model)],\n",
    "    voting='soft')\n",
    "eclf.fit(x_train, y_train)\n",
    "performance(eclf, x_train, y_train, x_test, y_test)"
   ]
  },
  {
   "cell_type": "code",
   "execution_count": null,
   "metadata": {},
   "outputs": [],
   "source": []
  }
 ],
 "metadata": {
  "kernelspec": {
   "display_name": "nlp",
   "language": "python",
   "name": "nlp"
  },
  "language_info": {
   "codemirror_mode": {
    "name": "ipython",
    "version": 3
   },
   "file_extension": ".py",
   "mimetype": "text/x-python",
   "name": "python",
   "nbconvert_exporter": "python",
   "pygments_lexer": "ipython3",
   "version": "3.7.3"
  }
 },
 "nbformat": 4,
 "nbformat_minor": 4
}
