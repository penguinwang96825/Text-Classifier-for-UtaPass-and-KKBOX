{
 "cells": [
  {
   "cell_type": "code",
   "execution_count": 217,
   "metadata": {},
   "outputs": [],
   "source": [
    "import tensorflow as tf\n",
    "import numpy as np\n",
    "import pandas as pd\n",
    "import matplotlib.pyplot as plt\n",
    "from sklearn.feature_extraction.text import CountVectorizer\n",
    "from sklearn.model_selection import train_test_split\n",
    "from sklearn.metrics import accuracy_score\n",
    "from sklearn.metrics import confusion_matrix\n",
    "from sklearn.metrics import roc_auc_score\n",
    "\n",
    "plt.style.use('ggplot')"
   ]
  },
  {
   "cell_type": "code",
   "execution_count": 57,
   "metadata": {},
   "outputs": [
    {
     "data": {
      "text/html": [
       "<div>\n",
       "<style scoped>\n",
       "    .dataframe tbody tr th:only-of-type {\n",
       "        vertical-align: middle;\n",
       "    }\n",
       "\n",
       "    .dataframe tbody tr th {\n",
       "        vertical-align: top;\n",
       "    }\n",
       "\n",
       "    .dataframe thead th {\n",
       "        text-align: right;\n",
       "    }\n",
       "</style>\n",
       "<table border=\"1\" class=\"dataframe\">\n",
       "  <thead>\n",
       "    <tr style=\"text-align: right;\">\n",
       "      <th></th>\n",
       "      <th>content</th>\n",
       "      <th>label</th>\n",
       "    </tr>\n",
       "  </thead>\n",
       "  <tbody>\n",
       "    <tr>\n",
       "      <th>887</th>\n",
       "      <td>TheBeachBoysアルバムsunflowerSlipOnThrough含ま聞き残念</td>\n",
       "      <td>0</td>\n",
       "    </tr>\n",
       "    <tr>\n",
       "      <th>411</th>\n",
       "      <td>アンインストールずっと残る</td>\n",
       "      <td>0</td>\n",
       "    </tr>\n",
       "    <tr>\n",
       "      <th>1403</th>\n",
       "      <td>ダウンロード</td>\n",
       "      <td>0</td>\n",
       "    </tr>\n",
       "    <tr>\n",
       "      <th>1868</th>\n",
       "      <td>最高歌詞見える良い</td>\n",
       "      <td>1</td>\n",
       "    </tr>\n",
       "    <tr>\n",
       "      <th>1046</th>\n",
       "      <td>リクエスト</td>\n",
       "      <td>0</td>\n",
       "    </tr>\n",
       "  </tbody>\n",
       "</table>\n",
       "</div>"
      ],
      "text/plain": [
       "                                           content  label\n",
       "887   TheBeachBoysアルバムsunflowerSlipOnThrough含ま聞き残念      0\n",
       "411                                  アンインストールずっと残る      0\n",
       "1403                                        ダウンロード      0\n",
       "1868                                     最高歌詞見える良い      1\n",
       "1046                                         リクエスト      0"
      ]
     },
     "execution_count": 57,
     "metadata": {},
     "output_type": "execute_result"
    }
   ],
   "source": [
    "df = pd.read_csv(r\"C:\\Users\\YangWang\\Desktop\\Text_Classifier_for_UtaPass_and_KKBOX\\data\\reviews_kkstream.csv\")\n",
    "# create the label\n",
    "df[\"label\"] = df[\"Reviewer Ratings\"].apply(lambda x: 0 if int(x) <= 3 else 1)\n",
    "# select only relevant columns\n",
    "df = df[[\"Review Body\", \"label\"]]\n",
    "df.columns = [\"content\", \"label\"]\n",
    "df.sample(5)"
   ]
  },
  {
   "cell_type": "code",
   "execution_count": 186,
   "metadata": {},
   "outputs": [
    {
     "data": {
      "image/png": "[encoded data removed]",
      "text/plain": [
       "<Figure size 432x288 with 1 Axes>"
      ]
     },
     "metadata": {},
     "output_type": "display_data"
    }
   ],
   "source": [
    "import matplotlib.pyplot as plt\n",
    "df[\"length\"] = df[\"content\"].map(len)\n",
    "df[\"length\"].plot.hist(bins=300, density=True, cumulative=True, histtype='step', range=(0, 110))\n",
    "plt.show()\n",
    "# plt.savefig(r'C:\\Users\\YangWang\\Desktop\\Text_Classifier_for_UtaPass_and_KKBOX\\image\\cumulative_percentage.png', \n",
    "#             bbox_inches='tight')"
   ]
  },
  {
   "cell_type": "code",
   "execution_count": 59,
   "metadata": {},
   "outputs": [],
   "source": [
    "df = df[df[\"length\"] >= 16]"
   ]
  },
  {
   "cell_type": "code",
   "execution_count": 60,
   "metadata": {},
   "outputs": [
    {
     "name": "stdout",
     "output_type": "stream",
     "text": [
      "Cumulative %   # Words  # Comments\n",
      " 80.26820   \t  48 \t    4\n",
      " 85.72797   \t  55 \t    9\n",
      " 90.32567   \t  62 \t    5\n",
      " 92.14559   \t  69 \t    2\n",
      " 95.21073   \t  83 \t    3\n"
     ]
    }
   ],
   "source": [
    "text_len = df[\"length\"].values\n",
    "max_len = text_len.max()\n",
    "\n",
    "len_sum = [0] * max_len\n",
    "for i in text_len:\n",
    "    len_sum[i-1] += 1\n",
    "    \n",
    "len_cum = [len_sum[0]] + [0] * (max_len-1)\n",
    "for i in range(1, max_len):\n",
    "    len_cum[i] += len_sum[i] + len_cum[i-1]\n",
    "\n",
    "print('Cumulative %   # Words  # Comments')\n",
    "for i in range(max_len):\n",
    "    len_cum[i] /= len(text_len)\n",
    "    if len_sum[i] != 0:\n",
    "        if (len_cum[i] >= 0.8 and len_cum[i-1] < 0.8):\n",
    "            print(' %.5f   \\t  %d \\t    %d'%(len_cum[i]*100, i, len_sum[i]))\n",
    "        if (len_cum[i] >= 0.85 and len_cum[i-1] < 0.85):\n",
    "            print(' %.5f   \\t  %d \\t    %d'%(len_cum[i]*100, i, len_sum[i]))\n",
    "        if (len_cum[i] >= 0.9 and len_cum[i-1] < 0.9):\n",
    "            print(' %.5f   \\t  %d \\t    %d'%(len_cum[i]*100, i, len_sum[i]))\n",
    "        if (len_cum[i] >= 0.92 and len_cum[i-1] < 0.92):\n",
    "            print(' %.5f   \\t  %d \\t    %d'%(len_cum[i]*100, i, len_sum[i]))\n",
    "        if (len_cum[i] >= 0.95 and len_cum[i-1] < 0.95):\n",
    "            print(' %.5f   \\t  %d \\t    %d'%(len_cum[i]*100, i, len_sum[i]))"
   ]
  },
  {
   "cell_type": "code",
   "execution_count": 224,
   "metadata": {},
   "outputs": [],
   "source": [
    "sentences = df['content'].apply(str).values\n",
    "y = df['label'].values\n",
    "\n",
    "x_train, x_test, y_train, y_test = train_test_split(sentences, y, test_size=0.20, random_state=17)"
   ]
  },
  {
   "cell_type": "code",
   "execution_count": 62,
   "metadata": {},
   "outputs": [],
   "source": [
    "import tensorflow as tf\n",
    "import numpy as np\n",
    "import keras\n",
    "from keras_self_attention import SeqSelfAttention\n",
    "from keras_self_attention SeqWeightedAttention\n",
    "from keras.models import Sequential,Model\n",
    "from keras.layers import Dense\n",
    "from keras.layers import Dropout\n",
    "from keras.layers import Activation\n",
    "from keras.layers import Flatten\n",
    "from keras.layers import Embedding\n",
    "from keras.layers import LSTM\n",
    "from keras.layers import SimpleRNN\n",
    "from keras.layers import GRU\n",
    "from keras.layers import Conv1D\n",
    "from keras.layers import MaxPooling1D\n",
    "from keras.engine import Input\n",
    "from keras.layers import CuDNNLSTM\n",
    "from keras.layers import Embedding\n",
    "from keras.layers import SpatialDropout1D\n",
    "from keras.layers import Bidirectional\n",
    "from keras.optimizers import Adam\n",
    "from keras.optimizers import SGD\n",
    "from keras.layers.normalization import BatchNormalization\n",
    "from keras.preprocessing import text\n",
    "from keras.preprocessing import sequence\n",
    "from keras.callbacks import EarlyStopping, TensorBoard, ModelCheckpoint\n",
    "from keras.callbacks import ReduceLROnPlateau\n",
    "import pandas\n",
    "import os\n",
    "from gensim.models.word2vec import Word2Vec\n",
    "from collections import Counter"
   ]
  },
  {
   "cell_type": "code",
   "execution_count": 73,
   "metadata": {},
   "outputs": [
    {
     "name": "stdout",
     "output_type": "stream",
     "text": [
      "300\n"
     ]
    }
   ],
   "source": [
    "# model_path = r'C:\\Users\\YangWang\\Desktop\\Text_Classifier_for_UtaPass_and_KKBOX\\word2vec\\word2vec.gensim.model'\n",
    "# w2v = Word2Vec.load(model_path)\n",
    "# print(w2v.vector_size)\n",
    "model_path = r'C:\\Users\\YangWang\\Desktop\\Text_Classifier_for_UtaPass_and_KKBOX\\word2vec\\ja.bin'\n",
    "w2v = Word2Vec.load(model_path)\n",
    "print(w2v.vector_size)"
   ]
  },
  {
   "cell_type": "code",
   "execution_count": 78,
   "metadata": {},
   "outputs": [],
   "source": [
    "# Input parameters\n",
    "MAX_FEATURE = 10000\n",
    "MAX_LEN = 64\n",
    "EMBED_SIZE = int(w2v.vector_size)\n",
    "\n",
    "# Convolution parameters\n",
    "filter_length = 3\n",
    "nb_filter = 150\n",
    "pool_length = 2\n",
    "cnn_activation = 'relu'\n",
    "border_mode = 'same'\n",
    "\n",
    "# RNN parameters\n",
    "output_size = 50\n",
    "rnn_activation = 'tanh'\n",
    "recurrent_activation = 'hard_sigmoid'\n",
    "\n",
    "# Compile parameters\n",
    "loss = 'binary_crossentropy'\n",
    "optimizer = 'adam'\n",
    "\n",
    "# Training parameters\n",
    "batch_size = 256\n",
    "nb_epoch = 100\n",
    "validation_split = 0.30\n",
    "shuffle = True"
   ]
  },
  {
   "cell_type": "code",
   "execution_count": 193,
   "metadata": {},
   "outputs": [],
   "source": [
    "# Input parameters\n",
    "config = {\n",
    "    # Text parameters\n",
    "    \"MAX_FEATURE\": 10000, \n",
    "    \"MAX_LEN\": 64, \n",
    "    \"EMBED_SIZE\": 300, \n",
    "\n",
    "    # Convolution parameters\n",
    "    \"filter_length\": 3, \n",
    "    \"nb_filter\": 150, \n",
    "    \"pool_length\": 2, \n",
    "    \"cnn_activation\": 'relu', \n",
    "    \"border_mode\": 'same', \n",
    "\n",
    "    # RNN parameters\n",
    "    \"lstm_cell\": 128, \n",
    "    \"output_size\": 50, \n",
    "    \"rnn_activation\": 'tanh', \n",
    "    \"recurrent_activation\": 'hard_sigmoid', \n",
    "    \n",
    "    # FC and Dropout\n",
    "    \"fc_cell\": 128, \n",
    "    \"dropout_rate\": 0.25, \n",
    "\n",
    "    # Compile parameters\n",
    "    \"loss\": 'binary_crossentropy', \n",
    "    \"optimizer\": 'adam', \n",
    "\n",
    "    # Training parameters\n",
    "    \"batch_size\": 256, \n",
    "    \"nb_epoch\": 100, \n",
    "    \"validation_split\": 0.30, \n",
    "    \"shuffle\": True\n",
    "}"
   ]
  },
  {
   "cell_type": "code",
   "execution_count": 79,
   "metadata": {},
   "outputs": [
    {
     "data": {
      "text/plain": [
       "50108"
      ]
     },
     "execution_count": 79,
     "metadata": {},
     "output_type": "execute_result"
    }
   ],
   "source": [
    "len(w2v.wv.vocab)"
   ]
  },
  {
   "cell_type": "code",
   "execution_count": 209,
   "metadata": {},
   "outputs": [],
   "source": [
    "def get_preprocessed_seq(sentences):\n",
    "    \"\"\"\n",
    "    input:\n",
    "        sentences: numpy.ndarray\n",
    "    output: \n",
    "        x: \n",
    "        x.shape: (# of sentences, sentence_max_length)\n",
    "    \"\"\"\n",
    "    # Build vocabulary & sequences\n",
    "    tokenizer = text.Tokenizer(num_words=config[\"MAX_FEATURE\"], lower=True, split=\" \")\n",
    "    tokenizer.fit_on_texts(sentences)\n",
    "    word_index = tokenizer.word_index\n",
    "\n",
    "    x = tokenizer.texts_to_sequences(sentences)\n",
    "    x = sequence.pad_sequences(x, maxlen=config[\"MAX_LEN\"], padding=\"pre\")\n",
    "    \n",
    "    return x"
   ]
  },
  {
   "cell_type": "code",
   "execution_count": 212,
   "metadata": {},
   "outputs": [],
   "source": [
    "x = get_preprocessed_seq(sentences)"
   ]
  },
  {
   "cell_type": "code",
   "execution_count": 200,
   "metadata": {},
   "outputs": [],
   "source": [
    "def get_embedding_matrix(w2v):\n",
    "    # Get word vector and load vocabulary from pretrained w2v model\n",
    "    word_vectors = w2v.wv\n",
    "    MAX_VOCAB = len(word_vectors.vocab)\n",
    "    nb_words = min(config[\"MAX_FEATURE\"], MAX_VOCAB)\n",
    "    \n",
    "    # Get word index\n",
    "    counter = Counter()\n",
    "    word_index = {t[0]: i+1 for i,t in enumerate(counter.most_common(MAX_VOCAB))}\n",
    "\n",
    "    # Initialize the matrix with random numbers\n",
    "    wv_matrix = (np.random.rand(nb_words, EMBED_SIZE) - 0.5) / 5.0\n",
    "    for word, i in word_index.items():\n",
    "        if i >= MAX_VOCAB:\n",
    "            continue\n",
    "        try:\n",
    "            embedding_vector = word_vectors[word]\n",
    "            wv_matrix[i] = embedding_vector\n",
    "        except:\n",
    "            pass\n",
    "    print(\"Vocabulary size: {}\\nEmbedding size: {}\".format(wv_matrix.shape[0], wv_matrix.shape[1]))\n",
    "    \n",
    "    return wv_matrix"
   ]
  },
  {
   "cell_type": "code",
   "execution_count": 201,
   "metadata": {},
   "outputs": [
    {
     "name": "stdout",
     "output_type": "stream",
     "text": [
      "Vocabulary size: 10000\n",
      "Embedding size: 300\n"
     ]
    }
   ],
   "source": [
    "wv_matrix = get_embedding_matrix(w2v)"
   ]
  },
  {
   "cell_type": "code",
   "execution_count": 229,
   "metadata": {},
   "outputs": [],
   "source": [
    "def train_bilstm(x, y, wv_matrix):\n",
    "    # Bidirectional LSTM\n",
    "    tf.keras.backend.clear_session()\n",
    "    \n",
    "    model = Sequential()\n",
    "    model.add(Embedding(wv_matrix.shape[0], wv_matrix.shape[1], mask_zero=False, \n",
    "                        weights=[wv_matrix], input_length=config[\"MAX_LEN\"], trainable=False))\n",
    "    model.add(Bidirectional(CuDNNLSTM(units=config['lstm_cell'], return_sequences=False)))\n",
    "    model.add(Dropout(config['dropout_rate']))\n",
    "    model.add(Dense(config['fc_cell']))\n",
    "    model.add(Dropout(config['dropout_rate']))\n",
    "    model.add(Dense(1))\n",
    "    model.add(Activation('sigmoid'))\n",
    "\n",
    "    model.compile(loss=config[\"loss\"], optimizer=config[\"optimizer\"], metrics=['acc'])\n",
    "\n",
    "    print(\"Bidirectional LSTM: \\n\")\n",
    "    print(\"=\"*20, \"Start Training\", \"=\"*20)\n",
    "\n",
    "    path = 'weights\\{}_weights.hdf5'.format(\"bilstm\")\n",
    "    model_checkpoint = ModelCheckpoint(path, monitor='loss', verbose=1, save_best_only=True, mode='auto')\n",
    "    early_stopping = EarlyStopping(monitor = 'loss', patience=3, verbose=1, mode='auto')\n",
    "    reduce_lr = ReduceLROnPlateau(monitor='val_loss', factor=0.2, patience=5, min_lr=0.001)\n",
    "\n",
    "    history = model.fit(\n",
    "        x, y, \n",
    "        batch_size=config['batch_size'], \n",
    "        epochs=config['nb_epoch'], \n",
    "        validation_split=config['validation_split'], \n",
    "        shuffle=config['shuffle'], \n",
    "        verbose = 1, \n",
    "        callbacks = [model_checkpoint, early_stopping, reduce_lr])\n",
    "    \n",
    "    return history, model"
   ]
  },
  {
   "cell_type": "code",
   "execution_count": 230,
   "metadata": {},
   "outputs": [],
   "source": [
    "def train_cnn_lstm(x, y, wv_matrix):\n",
    "    tf.keras.backend.clear_session()\n",
    "    \n",
    "    model = Sequential()\n",
    "    model.add(Embedding(wv_matrix.shape[0], wv_matrix.shape[1], mask_zero=False, \n",
    "                        weights=[wv_matrix], input_length=config[\"MAX_LEN\"], trainable=False))\n",
    "    model.add(Dropout(config['dropout_rate']))\n",
    "    model.add(Conv1D(filters=config['nb_filter'], kernel_size=config['filter_length'], padding=config['border_mode']))\n",
    "    model.add(BatchNormalization())\n",
    "    model.add(Activation(\"relu\"))\n",
    "    model.add(MaxPooling1D(pool_size=config['pool_length']))\n",
    "    model.add(LSTM(units=config['lstm_cell'], return_sequences=False))\n",
    "    model.add(Dense(config['fc_cell']*2))\n",
    "    model.add(Dropout(config['dropout_rate']))\n",
    "    model.add(Dense(1))\n",
    "    model.add(Activation('sigmoid'))\n",
    "\n",
    "    model.compile(loss=config['loss'], optimizer=config['optimizer'], metrics=['acc'])\n",
    "\n",
    "    print(\"CNN + LSTM: \\n\")\n",
    "    print(\"=\"*20, \"Start Training\", \"=\"*20)\n",
    "\n",
    "    path = 'weights\\{}_weights.hdf5'.format(\"cnn_lstm\")\n",
    "    model_checkpoint = ModelCheckpoint(path, monitor='loss', verbose=1, save_best_only=True, mode='auto')\n",
    "    early_stopping = EarlyStopping(monitor = 'loss', patience=3, verbose=1, mode='auto')\n",
    "    reduce_lr = ReduceLROnPlateau(monitor='val_loss', factor=0.2, patience=5, min_lr=0.001)\n",
    "\n",
    "    history = model.fit(\n",
    "        x, y, \n",
    "        batch_size=config['batch_size'], \n",
    "        epochs=config['nb_epoch'], \n",
    "        validation_split=config['validation_split'], \n",
    "        shuffle=config['shuffle'], \n",
    "        verbose=1, \n",
    "        callbacks=[model_checkpoint, early_stopping, reduce_lr])\n",
    "    \n",
    "    return history, model"
   ]
  },
  {
   "cell_type": "code",
   "execution_count": 231,
   "metadata": {},
   "outputs": [],
   "source": [
    "def plot_history_ggplot(history):\n",
    "    acc = history.history['acc']\n",
    "    val_acc = history.history['val_acc']\n",
    "    loss = history.history['loss']\n",
    "    val_loss = history.history['val_loss']\n",
    "    x = range(1, len(acc) + 1)\n",
    "\n",
    "    plt.figure(figsize=(12, 5))\n",
    "    plt.subplot(1, 2, 1)\n",
    "    plt.plot(x, acc, 'b', label='Training acc')\n",
    "    plt.plot(x, val_acc, 'r', label='Validation acc')\n",
    "    plt.title('Training and validation accuracy')\n",
    "    plt.legend()\n",
    "    plt.subplot(1, 2, 2)\n",
    "    plt.plot(x, loss, 'b', label='Training loss')\n",
    "    plt.plot(x, val_loss, 'r', label='Validation loss')\n",
    "    plt.title('Training and validation loss')\n",
    "    plt.legend()\n",
    "    \n",
    "def plot_history(history):\n",
    "    # plot results\n",
    "    loss = history.history['loss']\n",
    "    val_loss = history.history['val_loss']\n",
    "\n",
    "    acc = history.history['acc']\n",
    "    val_acc = history.history['val_acc']\n",
    "\n",
    "    plt.figure(figsize=(20,10))\n",
    "    plt.subplot(2,1,1)\n",
    "    plt.title('Loss')\n",
    "    epochs = len(loss)\n",
    "    plt.plot(range(epochs), loss, marker='.', label='loss')\n",
    "    plt.plot(range(epochs), val_loss, marker='.', label='val_loss')\n",
    "    plt.legend(loc='best')\n",
    "    ax = plt.gca()\n",
    "    ax.spines['bottom'].set_linewidth(5)\n",
    "    ax.spines['top'].set_linewidth(5)\n",
    "    ax.spines['right'].set_linewidth(5)\n",
    "    ax.spines['left'].set_linewidth(5)\n",
    "    ax.set_facecolor('snow')\n",
    "    plt.grid(color='lightgray', linestyle='-', linewidth=1)\n",
    "    plt.xlabel('epoch')\n",
    "    plt.ylabel('loss')\n",
    "\n",
    "    plt.subplot(2,1,2)\n",
    "    plt.title('Accuracy')\n",
    "    plt.plot(range(epochs), acc, marker='.', label='acc')\n",
    "    plt.plot(range(epochs), val_acc, marker='.', label='val_acc')\n",
    "    plt.legend(loc='best')\n",
    "    ax = plt.gca()\n",
    "    ax.spines['bottom'].set_linewidth(5)\n",
    "    ax.spines['top'].set_linewidth(5)\n",
    "    ax.spines['right'].set_linewidth(5)\n",
    "    ax.spines['left'].set_linewidth(5)\n",
    "    ax.set_facecolor('snow')\n",
    "    plt.grid(color='lightgray', linestyle='-', linewidth=1)\n",
    "    plt.xlabel('epoch')\n",
    "    plt.ylabel('acc')\n",
    "    plt.show()"
   ]
  },
  {
   "cell_type": "code",
   "execution_count": 235,
   "metadata": {
    "scrolled": true
   },
   "outputs": [
    {
     "name": "stdout",
     "output_type": "stream",
     "text": [
      "Bidirectional LSTM: \n",
      "\n",
      "==================== Start Training ====================\n",
      "Train on 584 samples, validate on 251 samples\n",
      "Epoch 1/100\n",
      "584/584 [==============================] - 0s 608us/step - loss: 0.6846 - acc: 0.5308 - val_loss: 0.6205 - val_acc: 0.6853\n",
      "\n",
      "Epoch 00001: loss improved from inf to 0.68461, saving model to weights\\bilstm_weights.hdf5\n",
      "Epoch 2/100\n",
      "584/584 [==============================] - 0s 101us/step - loss: 0.6815 - acc: 0.5959 - val_loss: 0.6459 - val_acc: 0.6853\n",
      "\n",
      "Epoch 00002: loss improved from 0.68461 to 0.68145, saving model to weights\\bilstm_weights.hdf5\n",
      "Epoch 3/100\n",
      "584/584 [==============================] - 0s 99us/step - loss: 0.6737 - acc: 0.5959 - val_loss: 0.6438 - val_acc: 0.6853\n",
      "\n",
      "Epoch 00003: loss improved from 0.68145 to 0.67368, saving model to weights\\bilstm_weights.hdf5\n",
      "Epoch 4/100\n",
      "584/584 [==============================] - 0s 92us/step - loss: 0.6703 - acc: 0.5959 - val_loss: 0.6375 - val_acc: 0.6853\n",
      "\n",
      "Epoch 00004: loss improved from 0.67368 to 0.67030, saving model to weights\\bilstm_weights.hdf5\n",
      "Epoch 5/100\n",
      "584/584 [==============================] - 0s 84us/step - loss: 0.6712 - acc: 0.5959 - val_loss: 0.6290 - val_acc: 0.6853\n",
      "\n",
      "Epoch 00005: loss did not improve from 0.67030\n",
      "Epoch 6/100\n",
      "584/584 [==============================] - 0s 85us/step - loss: 0.6712 - acc: 0.5959 - val_loss: 0.6276 - val_acc: 0.6853\n",
      "\n",
      "Epoch 00006: loss did not improve from 0.67030\n",
      "Epoch 7/100\n",
      "584/584 [==============================] - 0s 76us/step - loss: 0.6652 - acc: 0.5976 - val_loss: 0.6330 - val_acc: 0.6853\n",
      "\n",
      "Epoch 00007: loss improved from 0.67030 to 0.66518, saving model to weights\\bilstm_weights.hdf5\n",
      "Epoch 8/100\n",
      "584/584 [==============================] - 0s 81us/step - loss: 0.6642 - acc: 0.6010 - val_loss: 0.6387 - val_acc: 0.6853\n",
      "\n",
      "Epoch 00008: loss improved from 0.66518 to 0.66423, saving model to weights\\bilstm_weights.hdf5\n",
      "Epoch 9/100\n",
      "584/584 [==============================] - 0s 80us/step - loss: 0.6640 - acc: 0.6079 - val_loss: 0.6326 - val_acc: 0.6853\n",
      "\n",
      "Epoch 00009: loss improved from 0.66423 to 0.66399, saving model to weights\\bilstm_weights.hdf5\n",
      "Epoch 10/100\n",
      "584/584 [==============================] - 0s 77us/step - loss: 0.6608 - acc: 0.6062 - val_loss: 0.6266 - val_acc: 0.6853\n",
      "\n",
      "Epoch 00010: loss improved from 0.66399 to 0.66084, saving model to weights\\bilstm_weights.hdf5\n",
      "Epoch 11/100\n",
      "584/584 [==============================] - 0s 77us/step - loss: 0.6624 - acc: 0.6079 - val_loss: 0.6405 - val_acc: 0.6813\n",
      "\n",
      "Epoch 00011: loss did not improve from 0.66084\n",
      "Epoch 12/100\n",
      "584/584 [==============================] - 0s 82us/step - loss: 0.6590 - acc: 0.6130 - val_loss: 0.6375 - val_acc: 0.6813\n",
      "\n",
      "Epoch 00012: loss improved from 0.66084 to 0.65898, saving model to weights\\bilstm_weights.hdf5\n",
      "Epoch 13/100\n",
      "584/584 [==============================] - 0s 80us/step - loss: 0.6512 - acc: 0.6233 - val_loss: 0.6261 - val_acc: 0.6733\n",
      "\n",
      "Epoch 00013: loss improved from 0.65898 to 0.65115, saving model to weights\\bilstm_weights.hdf5\n",
      "Epoch 14/100\n",
      "584/584 [==============================] - 0s 79us/step - loss: 0.6595 - acc: 0.6113 - val_loss: 0.6244 - val_acc: 0.6733\n",
      "\n",
      "Epoch 00014: loss did not improve from 0.65115\n",
      "Epoch 15/100\n",
      "584/584 [==============================] - 0s 77us/step - loss: 0.6517 - acc: 0.6216 - val_loss: 0.6606 - val_acc: 0.6932\n",
      "\n",
      "Epoch 00015: loss did not improve from 0.65115\n",
      "Epoch 16/100\n",
      "584/584 [==============================] - 0s 79us/step - loss: 0.6525 - acc: 0.6541 - val_loss: 0.6438 - val_acc: 0.6813\n",
      "\n",
      "Epoch 00016: loss did not improve from 0.65115\n",
      "Epoch 00016: early stopping\n"
     ]
    },
    {
     "data": {
      "image/png": "[encoded data removed]",
      "text/plain": [
       "<Figure size 1440x720 with 2 Axes>"
      ]
     },
     "metadata": {},
     "output_type": "display_data"
    }
   ],
   "source": [
    "x = get_preprocessed_seq(x_train)\n",
    "y = y_train\n",
    "history, model = train_bilstm(x, y, wv_matrix)\n",
    "plot_history(history)"
   ]
  },
  {
   "cell_type": "code",
   "execution_count": 236,
   "metadata": {},
   "outputs": [],
   "source": [
    "def predict(sentences, model):\n",
    "    x_test = tokenizer.texts_to_sequences(sentences)\n",
    "    x_test = sequence.pad_sequences(x_test, maxlen=MAX_LEN)\n",
    "    y_prob = model.predict_classes(x_test)\n",
    "    y_pred = y_prob.squeeze()   \n",
    "    return y_pred"
   ]
  },
  {
   "cell_type": "code",
   "execution_count": 239,
   "metadata": {},
   "outputs": [
    {
     "name": "stdout",
     "output_type": "stream",
     "text": [
      "Accuracy: 0.6077\n",
      "ROC AUC Score: 0.6092\n"
     ]
    }
   ],
   "source": [
    "y_pred = predict(x_test, model)\n",
    "acc_score = accuracy_score(y_pred, y_test)\n",
    "rocauc_score = roc_auc_score(y_pred, y_test)\n",
    "print(\"Accuracy: {}\\nROC AUC Score: {}\".format(round(acc_score, 4), round(rocauc_score, 4)))"
   ]
  },
  {
   "cell_type": "code",
   "execution_count": 205,
   "metadata": {},
   "outputs": [
    {
     "data": {
      "text/plain": [
       "array([[102,  37],\n",
       "       [ 21,  49]], dtype=int64)"
      ]
     },
     "execution_count": 205,
     "metadata": {},
     "output_type": "execute_result"
    }
   ],
   "source": [
    "confusion_matrix(y_pred, y_test)"
   ]
  },
  {
   "cell_type": "code",
   "execution_count": null,
   "metadata": {},
   "outputs": [],
   "source": []
  }
 ],
 "metadata": {
  "kernelspec": {
   "display_name": "nlp",
   "language": "python",
   "name": "nlp"
  },
  "language_info": {
   "codemirror_mode": {
    "name": "ipython",
    "version": 3
   },
   "file_extension": ".py",
   "mimetype": "text/x-python",
   "name": "python",
   "nbconvert_exporter": "python",
   "pygments_lexer": "ipython3",
   "version": "3.7.3"
  }
 },
 "nbformat": 4,
 "nbformat_minor": 2
}
