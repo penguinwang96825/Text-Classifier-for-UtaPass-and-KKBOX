{
 "cells": [
  {
   "cell_type": "code",
   "execution_count": 1,
   "metadata": {},
   "outputs": [],
   "source": [
    "import torch\n",
    "import transformers\n",
    "import torch.nn.functional as F\n",
    "from torch import nn\n",
    "from torch import optim\n",
    "from torch.utils.data import Dataset\n",
    "from torch.utils.data import DataLoader\n",
    "from transformers.tokenization_bert_japanese import BertJapaneseTokenizer\n",
    "from transformers import AutoModel\n",
    "from transformers import AutoModelWithLMHead\n",
    "from transformers import AlbertForSequenceClassification\n",
    "from transformers import DistilBertForSequenceClassification\n",
    "from transformers import BertModel\n",
    "from transformers import AdamW\n",
    "from transformers import get_linear_schedule_with_warmup\n",
    "\n",
    "import re\n",
    "import emoji\n",
    "import numpy as np\n",
    "import pandas as pd\n",
    "import seaborn as sns\n",
    "import matplotlib.pyplot as plt\n",
    "from sklearn.model_selection import train_test_split\n",
    "from sklearn.metrics import f1_score\n",
    "from sklearn.metrics import confusion_matrix\n",
    "from sklearn.metrics import classification_report\n",
    "from collections import defaultdict"
   ]
  },
  {
   "cell_type": "code",
   "execution_count": 2,
   "metadata": {},
   "outputs": [],
   "source": [
    "RANDOM_SEED = 17\n",
    "np.random.seed(RANDOM_SEED)\n",
    "torch.manual_seed(RANDOM_SEED)\n",
    "device = torch.device(\"cuda:0\" if torch.cuda.is_available() else \"cpu\")"
   ]
  },
  {
   "cell_type": "code",
   "execution_count": 3,
   "metadata": {},
   "outputs": [
    {
     "data": {
      "text/html": [
       "<div>\n",
       "<style scoped>\n",
       "    .dataframe tbody tr th:only-of-type {\n",
       "        vertical-align: middle;\n",
       "    }\n",
       "\n",
       "    .dataframe tbody tr th {\n",
       "        vertical-align: top;\n",
       "    }\n",
       "\n",
       "    .dataframe thead th {\n",
       "        text-align: right;\n",
       "    }\n",
       "</style>\n",
       "<table border=\"1\" class=\"dataframe\">\n",
       "  <thead>\n",
       "    <tr style=\"text-align: right;\">\n",
       "      <th></th>\n",
       "      <th>rating</th>\n",
       "      <th>content</th>\n",
       "    </tr>\n",
       "  </thead>\n",
       "  <tbody>\n",
       "    <tr>\n",
       "      <th>0</th>\n",
       "      <td>2</td>\n",
       "      <td>アプリをダウンロードしたばかりで、バックグラウンドで聴いています。星の理由は曲のダウンロード...</td>\n",
       "    </tr>\n",
       "    <tr>\n",
       "      <th>1</th>\n",
       "      <td>5</td>\n",
       "      <td>NaN</td>\n",
       "    </tr>\n",
       "    <tr>\n",
       "      <th>2</th>\n",
       "      <td>5</td>\n",
       "      <td>ダウンロードはネットが必要ですが、その後はオフラインで聞くことが出来てとても便利です。 オフ...</td>\n",
       "    </tr>\n",
       "    <tr>\n",
       "      <th>3</th>\n",
       "      <td>4</td>\n",
       "      <td>広告をあまり見たくない方は、下のタブにある本人→右上のアイコンを押すと、30秒間の広告を見る...</td>\n",
       "    </tr>\n",
       "    <tr>\n",
       "      <th>4</th>\n",
       "      <td>1</td>\n",
       "      <td>音楽をダウンロードしようと思ったら、ダウンロードマークが無くて、追加しかない状態だった。その...</td>\n",
       "    </tr>\n",
       "  </tbody>\n",
       "</table>\n",
       "</div>"
      ],
      "text/plain": [
       "   rating                                            content\n",
       "0       2  アプリをダウンロードしたばかりで、バックグラウンドで聴いています。星の理由は曲のダウンロード...\n",
       "1       5                                                NaN\n",
       "2       5  ダウンロードはネットが必要ですが、その後はオフラインで聞くことが出来てとても便利です。 オフ...\n",
       "3       4  広告をあまり見たくない方は、下のタブにある本人→右上のアイコンを押すと、30秒間の広告を見る...\n",
       "4       1  音楽をダウンロードしようと思ったら、ダウンロードマークが無くて、追加しかない状態だった。その..."
      ]
     },
     "execution_count": 3,
     "metadata": {},
     "output_type": "execute_result"
    }
   ],
   "source": [
    "df = pd.read_csv(r\"C:/Users/YangWang/Desktop/Text_Classifier_for_UtaPass_and_KKBOX/data/all_20200423.csv\", \n",
    "                 usecols=[\"content\", \"rating\"])\n",
    "df.head()"
   ]
  },
  {
   "cell_type": "code",
   "execution_count": 4,
   "metadata": {},
   "outputs": [],
   "source": [
    "def give_emoji_free_text(text):\n",
    "    allchars = [string for string in text]\n",
    "    emoji_list = [c for c in allchars if c in emoji.UNICODE_EMOJI]\n",
    "    cleaned_text = ' '.join([str for str in text.split() if not any(i in str for i in emoji_list)])\n",
    "    return cleaned_text\n",
    "\n",
    "def clean_text(text):\n",
    "    # Remove emoji\n",
    "    text = give_emoji_free_text(text)\n",
    "    # Remove punctuation\n",
    "    text = re.sub(r'[^\\w\\d\\s]+', '', text)\n",
    "    # Remove digits\n",
    "    text = ''.join([i for i in text if not i.isdigit()])\n",
    "    return text"
   ]
  },
  {
   "cell_type": "code",
   "execution_count": 5,
   "metadata": {},
   "outputs": [
    {
     "name": "stdout",
     "output_type": "stream",
     "text": [
      "<class 'pandas.core.frame.DataFrame'>\n",
      "Int64Index: 13861 entries, 0 to 13922\n",
      "Data columns (total 2 columns):\n",
      " #   Column   Non-Null Count  Dtype \n",
      "---  ------   --------------  ----- \n",
      " 0   rating   13861 non-null  int64 \n",
      " 1   content  13861 non-null  object\n",
      "dtypes: int64(1), object(1)\n",
      "memory usage: 324.9+ KB\n"
     ]
    }
   ],
   "source": [
    "df.dropna(inplace=True, axis=0)\n",
    "df[\"content\"] = df[\"content\"].map(str)\n",
    "df[\"content\"] = df[\"content\"].apply(clean_text)\n",
    "df.info()"
   ]
  },
  {
   "cell_type": "code",
   "execution_count": 6,
   "metadata": {},
   "outputs": [
    {
     "data": {
      "image/png": "[encoded data removed]",
      "text/plain": [
       "<Figure size 1440x576 with 1 Axes>"
      ]
     },
     "metadata": {
      "needs_background": "light"
     },
     "output_type": "display_data"
    }
   ],
   "source": [
    "plt.figure(figsize=(20, 8))\n",
    "sns.countplot(df.rating)\n",
    "plt.xlabel(\"Review Rating\")\n",
    "plt.grid(axis=\"y\")"
   ]
  },
  {
   "cell_type": "code",
   "execution_count": 7,
   "metadata": {},
   "outputs": [
    {
     "data": {
      "text/html": [
       "<div>\n",
       "<style scoped>\n",
       "    .dataframe tbody tr th:only-of-type {\n",
       "        vertical-align: middle;\n",
       "    }\n",
       "\n",
       "    .dataframe tbody tr th {\n",
       "        vertical-align: top;\n",
       "    }\n",
       "\n",
       "    .dataframe thead th {\n",
       "        text-align: right;\n",
       "    }\n",
       "</style>\n",
       "<table border=\"1\" class=\"dataframe\">\n",
       "  <thead>\n",
       "    <tr style=\"text-align: right;\">\n",
       "      <th></th>\n",
       "      <th>rating</th>\n",
       "      <th>content</th>\n",
       "    </tr>\n",
       "  </thead>\n",
       "  <tbody>\n",
       "    <tr>\n",
       "      <th>0</th>\n",
       "      <td>0</td>\n",
       "      <td>アプリをダウンロードしたばかりでバックグラウンドで聴いています星の理由は曲のダウンロードが出...</td>\n",
       "    </tr>\n",
       "    <tr>\n",
       "      <th>2</th>\n",
       "      <td>1</td>\n",
       "      <td>ダウンロードはネットが必要ですがその後はオフラインで聞くことが出来てとても便利です オフライ...</td>\n",
       "    </tr>\n",
       "    <tr>\n",
       "      <th>3</th>\n",
       "      <td>1</td>\n",
       "      <td>広告をあまり見たくない方は下のタブにある本人右上のアイコンを押すと秒間の広告を見る代わりに時...</td>\n",
       "    </tr>\n",
       "    <tr>\n",
       "      <th>4</th>\n",
       "      <td>0</td>\n",
       "      <td>音楽をダウンロードしようと思ったらダウンロードマークが無くて追加しかない状態だったその上どれ...</td>\n",
       "    </tr>\n",
       "    <tr>\n",
       "      <th>5</th>\n",
       "      <td>1</td>\n",
       "      <td>個人の感想ですが色々な曲が聞けて使いやすいしとても便利なアプリだと思います ですが歌詞が表示...</td>\n",
       "    </tr>\n",
       "  </tbody>\n",
       "</table>\n",
       "</div>"
      ],
      "text/plain": [
       "   rating                                            content\n",
       "0       0  アプリをダウンロードしたばかりでバックグラウンドで聴いています星の理由は曲のダウンロードが出...\n",
       "2       1  ダウンロードはネットが必要ですがその後はオフラインで聞くことが出来てとても便利です オフライ...\n",
       "3       1  広告をあまり見たくない方は下のタブにある本人右上のアイコンを押すと秒間の広告を見る代わりに時...\n",
       "4       0  音楽をダウンロードしようと思ったらダウンロードマークが無くて追加しかない状態だったその上どれ...\n",
       "5       1  個人の感想ですが色々な曲が聞けて使いやすいしとても便利なアプリだと思います ですが歌詞が表示..."
      ]
     },
     "execution_count": 7,
     "metadata": {},
     "output_type": "execute_result"
    }
   ],
   "source": [
    "def to_sentiment(rating):\n",
    "    rating = int(rating)\n",
    "    if rating <= 3: return 0\n",
    "    else: return 1\n",
    "    \n",
    "df[\"rating\"] = df[\"rating\"].apply(to_sentiment)\n",
    "class_name = [\"negative\", \"positive\"]\n",
    "df.head()"
   ]
  },
  {
   "cell_type": "code",
   "execution_count": 8,
   "metadata": {},
   "outputs": [
    {
     "data": {
      "image/png": "[encoded data removed]",
      "text/plain": [
       "<Figure size 1440x576 with 1 Axes>"
      ]
     },
     "metadata": {
      "needs_background": "light"
     },
     "output_type": "display_data"
    }
   ],
   "source": [
    "plt.figure(figsize=(20, 8))\n",
    "sns.countplot(df.rating)\n",
    "plt.xlabel(\"Review Rating\")\n",
    "plt.grid(axis=\"y\")"
   ]
  },
  {
   "cell_type": "code",
   "execution_count": 9,
   "metadata": {},
   "outputs": [],
   "source": [
    "# There is some other options:\n",
    "# 1. bert-base-japanese\n",
    "# 2. bert-base-japanese-whole-word-masking\n",
    "# 3. bert-base-japanese-char\n",
    "# 4. bert-base-japanese-char-whole-word-masking\n",
    "\n",
    "PRE_TRAINED_MODEL_NAME = 'bert-base-japanese-char-whole-word-masking'\n",
    "tokenizer = BertJapaneseTokenizer.from_pretrained(PRE_TRAINED_MODEL_NAME)"
   ]
  },
  {
   "cell_type": "code",
   "execution_count": 10,
   "metadata": {},
   "outputs": [
    {
     "name": "stdout",
     "output_type": "stream",
     "text": [
      "Sentence: ダウンロードはネットが必要ですが、その後はオフラインで聞くことが出来てとても便利です。\n",
      "\n",
      "Tokens: ['ダ', 'ウ', 'ン', 'ロ', 'ー', 'ド', 'は', 'ネ', 'ッ', 'ト', 'が', '必', '要', 'で', 'す', 'が', '、', 'そ', 'の', '後', 'は', 'オ', 'フ', 'ラ', 'イ', 'ン', 'で', '聞', 'く', 'こ', 'と', 'が', '出', '来', 'て', 'と', 'て', 'も', '便', '利', 'で', 'す', '。']\n",
      "\n",
      "Tokens IDs: [156, 111, 21, 67, 13, 55, 12, 222, 49, 38, 20, 623, 306, 17, 46, 20, 7, 78, 6, 99, 12, 103, 65, 47, 40, 21, 17, 805, 66, 44, 14, 20, 102, 337, 18, 14, 18, 42, 976, 362, 17, 46, 10]\n",
      "\n"
     ]
    }
   ],
   "source": [
    "sample_text = \"ダウンロードはネットが必要ですが、その後はオフラインで聞くことが出来てとても便利です。\"\n",
    "tokens = tokenizer.tokenize(sample_text)\n",
    "token_ids = tokenizer.convert_tokens_to_ids(tokens)\n",
    "\n",
    "print(\"Sentence: {}\\n\".format(sample_text))\n",
    "print(\"Tokens: {}\\n\".format(tokens))\n",
    "print(\"Tokens IDs: {}\\n\".format(token_ids))"
   ]
  },
  {
   "cell_type": "code",
   "execution_count": 11,
   "metadata": {},
   "outputs": [
    {
     "name": "stdout",
     "output_type": "stream",
     "text": [
      "[CLS] ID:  2\n",
      "[SEP] ID:  3\n",
      "[PAD] ID:  0\n",
      "[UNK] ID:  1\n"
     ]
    }
   ],
   "source": [
    "print(\"[CLS] ID: \", tokenizer.cls_token_id)\n",
    "print(\"[SEP] ID: \", tokenizer.sep_token_id)\n",
    "print(\"[PAD] ID: \", tokenizer.pad_token_id)\n",
    "print(\"[UNK] ID: \", tokenizer.unk_token_id)"
   ]
  },
  {
   "cell_type": "code",
   "execution_count": 12,
   "metadata": {},
   "outputs": [],
   "source": [
    "# Add special tokens\n",
    "# ('[CLS]', 2), ('[SEP]', 3), ('[PAD]', 0), ('[UNK]', 1)\n",
    "\n",
    "encoding = tokenizer.encode_plus(\n",
    "    sample_text, \n",
    "    max_length=32, \n",
    "    add_special_tokens=True, \n",
    "    return_token_type_ids=False, \n",
    "    pad_to_max_length=True, \n",
    "    return_attention_mask=True, \n",
    "    return_tensors=\"pt\")"
   ]
  },
  {
   "cell_type": "code",
   "execution_count": 13,
   "metadata": {},
   "outputs": [
    {
     "data": {
      "text/plain": [
       "{'input_ids': tensor([[  2, 156, 111,  21,  67,  13,  55,  12, 222,  49,  38,  20, 623, 306,\n",
       "          17,  46,  20,   7,  78,   6,  99,  12, 103,  65,  47,  40,  21,  17,\n",
       "         805,  66,  44,   3]]), 'attention_mask': tensor([[1, 1, 1, 1, 1, 1, 1, 1, 1, 1, 1, 1, 1, 1, 1, 1, 1, 1, 1, 1, 1, 1, 1, 1,\n",
       "         1, 1, 1, 1, 1, 1, 1, 1]])}"
      ]
     },
     "execution_count": 13,
     "metadata": {},
     "output_type": "execute_result"
    }
   ],
   "source": [
    "encoding"
   ]
  },
  {
   "cell_type": "code",
   "execution_count": 14,
   "metadata": {},
   "outputs": [
    {
     "data": {
      "text/plain": [
       "['[CLS]',\n",
       " 'ダ',\n",
       " 'ウ',\n",
       " 'ン',\n",
       " 'ロ',\n",
       " 'ー',\n",
       " 'ド',\n",
       " 'は',\n",
       " 'ネ',\n",
       " 'ッ',\n",
       " 'ト',\n",
       " 'が',\n",
       " '必',\n",
       " '要',\n",
       " 'で',\n",
       " 'す',\n",
       " 'が',\n",
       " '、',\n",
       " 'そ',\n",
       " 'の',\n",
       " '後',\n",
       " 'は',\n",
       " 'オ',\n",
       " 'フ',\n",
       " 'ラ',\n",
       " 'イ',\n",
       " 'ン',\n",
       " 'で',\n",
       " '聞',\n",
       " 'く',\n",
       " 'こ',\n",
       " '[SEP]']"
      ]
     },
     "execution_count": 14,
     "metadata": {},
     "output_type": "execute_result"
    }
   ],
   "source": [
    "tokenizer.convert_ids_to_tokens(encoding[\"input_ids\"][0])"
   ]
  },
  {
   "cell_type": "code",
   "execution_count": 15,
   "metadata": {},
   "outputs": [
    {
     "data": {
      "text/plain": [
       "Text(0.5, 0, 'Sentence Length (after tokenized)')"
      ]
     },
     "execution_count": 15,
     "metadata": {},
     "output_type": "execute_result"
    },
    {
     "data": {
      "image/png": "[encoded data removed]",
      "text/plain": [
       "<Figure size 1440x576 with 1 Axes>"
      ]
     },
     "metadata": {
      "needs_background": "light"
     },
     "output_type": "display_data"
    }
   ],
   "source": [
    "# Check tokenized sentence length in whole dataframe\n",
    "tokens_length = []\n",
    "\n",
    "for txt in df.content:\n",
    "    tokens = tokenizer.encode(txt, max_length=512)\n",
    "    tokens_length.append(len(tokens))\n",
    "    \n",
    "plt.figure(figsize=(20, 8))\n",
    "sns.distplot(tokens_length)\n",
    "plt.grid()\n",
    "plt.xlim([0, 128])\n",
    "plt.xlabel(\"Sentence Length (after tokenized)\")"
   ]
  },
  {
   "cell_type": "code",
   "execution_count": 16,
   "metadata": {},
   "outputs": [],
   "source": [
    "class ReviewDataset(Dataset):\n",
    "    def __init__(self, reviews, targets, tokenizer, max_len):\n",
    "        self.reviews = reviews\n",
    "        self.targets = targets\n",
    "        self.tokenizer = tokenizer\n",
    "        self.max_len = max_len\n",
    "        \n",
    "    def __len__(self):\n",
    "        return len(self.reviews)\n",
    "    \n",
    "    def __getitem__(self, item):\n",
    "        review = str(self.reviews[item])\n",
    "        target = self.targets[item]\n",
    "        \n",
    "        encoding = self.tokenizer.encode_plus(\n",
    "            review, \n",
    "            max_length=self.max_len, \n",
    "            add_special_tokens=True, \n",
    "            return_token_type_ids=False, \n",
    "            pad_to_max_length=True, \n",
    "            return_attention_mask=True, \n",
    "            return_tensors=\"pt\")\n",
    "        \n",
    "        return {\n",
    "            \"review_text\": review, \n",
    "            \"input_ids\": encoding[\"input_ids\"].flatten(), \n",
    "            \"attention_mask\": encoding[\"attention_mask\"].flatten(), \n",
    "            \"target\": torch.tensor(target, dtype=torch.long)\n",
    "        }"
   ]
  },
  {
   "cell_type": "code",
   "execution_count": 17,
   "metadata": {},
   "outputs": [
    {
     "name": "stdout",
     "output_type": "stream",
     "text": [
      "Train Size:  (8316, 2)\n",
      "Validation Size:  (2772, 2)\n",
      "Test Size:  (2773, 2)\n"
     ]
    }
   ],
   "source": [
    "df_train, df_test = train_test_split(df, test_size=0.4, shuffle=True, random_state=RANDOM_SEED)\n",
    "df_val, df_test = train_test_split(df_test, test_size=0.5, shuffle=True, random_state=RANDOM_SEED)\n",
    "\n",
    "print(\"Train Size: \", df_train.shape)\n",
    "print(\"Validation Size: \", df_val.shape)\n",
    "print(\"Test Size: \", df_test.shape)"
   ]
  },
  {
   "cell_type": "code",
   "execution_count": 18,
   "metadata": {},
   "outputs": [],
   "source": [
    "def create_dataloader(df, tokenizer, max_len, batch_size):\n",
    "    dataset = ReviewDataset(\n",
    "        reviews=df.content.to_numpy(), \n",
    "        targets=df.rating.to_numpy(), \n",
    "        tokenizer=tokenizer, \n",
    "        max_len=max_len)\n",
    "    \n",
    "    return DataLoader(\n",
    "        dataset, \n",
    "        batch_size=batch_size, \n",
    "        shuffle=True, \n",
    "        num_workers=0)"
   ]
  },
  {
   "cell_type": "code",
   "execution_count": 19,
   "metadata": {},
   "outputs": [],
   "source": [
    "BATCH_SIZE = 32\n",
    "MAX_LEN = 64\n",
    "\n",
    "train_dataloader = create_dataloader(df_train, tokenizer, MAX_LEN, BATCH_SIZE)\n",
    "val_dataloader = create_dataloader(df_val, tokenizer, MAX_LEN, BATCH_SIZE)\n",
    "test_dataloader = create_dataloader(df_test, tokenizer, MAX_LEN, BATCH_SIZE)"
   ]
  },
  {
   "cell_type": "code",
   "execution_count": 20,
   "metadata": {},
   "outputs": [
    {
     "name": "stdout",
     "output_type": "stream",
     "text": [
      "Input IDs shape:          torch.Size([32, 64])\n",
      "Attention mask shape:     torch.Size([32, 64])\n",
      "Label shape:              torch.Size([32])\n",
      "Last hidden state shape:  torch.Size([32, 64, 768])\n",
      "[CLS] token output shape: torch.Size([32, 768])\n"
     ]
    }
   ],
   "source": [
    "# Reference from https://huggingface.co/models?filter=pytorch\n",
    "# Reference from https://huggingface.co/ALINEAR/albert-japanese-v2\n",
    "\n",
    "data = next(iter(train_dataloader))\n",
    "print(\"Input IDs shape:         \", data['input_ids'].shape)\n",
    "print(\"Attention mask shape:    \", data['attention_mask'].shape)\n",
    "print(\"Label shape:             \", data['target'].shape)\n",
    "\n",
    "model = AutoModel.from_pretrained(\"ALINEAR/albert-japanese-v2\", from_tf=False)\n",
    "last_hidden_state, pooled_output = model(\n",
    "    input_ids=data['input_ids'],\n",
    "    attention_mask=data['attention_mask'])\n",
    "print(\"Last hidden state shape: \", last_hidden_state.shape)\n",
    "print(\"[CLS] token output shape:\", pooled_output.shape)"
   ]
  },
  {
   "cell_type": "code",
   "execution_count": 21,
   "metadata": {},
   "outputs": [],
   "source": [
    "class SentimentClassifier(nn.Module):\n",
    "    def __init__(self, n_classes):\n",
    "        super(SentimentClassifier, self).__init__()\n",
    "        self.albert_layer = AutoModel.from_pretrained(\"ALINEAR/albert-japanese-v2\", from_tf=False)\n",
    "        self.dropout = nn.Dropout(p=0.25)\n",
    "        self.lstm = nn.LSTM(\n",
    "            input_size=self.albert_layer.config.hidden_size,\n",
    "            hidden_size=64, \n",
    "            num_layers=1, \n",
    "            bidirectional=True, \n",
    "            batch_first=True)\n",
    "        self.classifier = nn.Linear(64*2, n_classes)\n",
    "        \n",
    "    def forward(self, input_ids, attention_mask):\n",
    "        last_hidden_state, pooled_output = self.albert_layer(\n",
    "            input_ids=input_ids, \n",
    "            attention_mask=attention_mask)\n",
    "        main, _ = self.lstm(last_hidden_state, None)\n",
    "        main = main[:, -1, :].squeeze()\n",
    "        main = self.dropout(main)\n",
    "        return F.softmax(self.classifier(main), dim=1)"
   ]
  },
  {
   "cell_type": "code",
   "execution_count": 22,
   "metadata": {},
   "outputs": [
    {
     "data": {
      "text/plain": [
       "SentimentClassifier(\n",
       "  (albert_layer): AlbertModel(\n",
       "    (embeddings): AlbertEmbeddings(\n",
       "      (word_embeddings): Embedding(32000, 128, padding_idx=0)\n",
       "      (position_embeddings): Embedding(512, 128)\n",
       "      (token_type_embeddings): Embedding(2, 128)\n",
       "      (LayerNorm): LayerNorm((128,), eps=1e-12, elementwise_affine=True)\n",
       "      (dropout): Dropout(p=0.1, inplace=False)\n",
       "    )\n",
       "    (encoder): AlbertTransformer(\n",
       "      (embedding_hidden_mapping_in): Linear(in_features=128, out_features=768, bias=True)\n",
       "      (albert_layer_groups): ModuleList(\n",
       "        (0): AlbertLayerGroup(\n",
       "          (albert_layers): ModuleList(\n",
       "            (0): AlbertLayer(\n",
       "              (full_layer_layer_norm): LayerNorm((768,), eps=1e-12, elementwise_affine=True)\n",
       "              (attention): AlbertAttention(\n",
       "                (query): Linear(in_features=768, out_features=768, bias=True)\n",
       "                (key): Linear(in_features=768, out_features=768, bias=True)\n",
       "                (value): Linear(in_features=768, out_features=768, bias=True)\n",
       "                (dropout): Dropout(p=0.1, inplace=False)\n",
       "                (dense): Linear(in_features=768, out_features=768, bias=True)\n",
       "                (LayerNorm): LayerNorm((768,), eps=1e-12, elementwise_affine=True)\n",
       "              )\n",
       "              (ffn): Linear(in_features=768, out_features=3072, bias=True)\n",
       "              (ffn_output): Linear(in_features=3072, out_features=768, bias=True)\n",
       "            )\n",
       "          )\n",
       "        )\n",
       "      )\n",
       "    )\n",
       "    (pooler): Linear(in_features=768, out_features=768, bias=True)\n",
       "    (pooler_activation): Tanh()\n",
       "  )\n",
       "  (dropout): Dropout(p=0.25, inplace=False)\n",
       "  (lstm): LSTM(768, 64, batch_first=True, bidirectional=True)\n",
       "  (classifier): Linear(in_features=128, out_features=2, bias=True)\n",
       ")"
      ]
     },
     "execution_count": 22,
     "metadata": {},
     "output_type": "execute_result"
    }
   ],
   "source": [
    "torch.cuda.empty_cache()\n",
    "model = SentimentClassifier(len(class_name))\n",
    "model.to(device)"
   ]
  },
  {
   "cell_type": "code",
   "execution_count": 23,
   "metadata": {},
   "outputs": [],
   "source": [
    "EPOCHS = 4\n",
    "optimizer = AdamW(model.parameters(), lr=2e-5, weight_decay=0.01, correct_bias=False)\n",
    "total_steps = len(train_dataloader) * EPOCHS\n",
    "scheduler = get_linear_schedule_with_warmup(\n",
    "    optimizer, \n",
    "    num_warmup_steps=0, \n",
    "    num_training_steps=total_steps)\n",
    "loss_function = nn.CrossEntropyLoss().to(device)"
   ]
  },
  {
   "cell_type": "code",
   "execution_count": 24,
   "metadata": {},
   "outputs": [],
   "source": [
    "def train_albert(model, data_loader, loss_function, optimizer, device, scheduler, n_examples):\n",
    "    model = model.train()\n",
    "    \n",
    "    losses = []\n",
    "    correct_predictions = 0\n",
    "    true_pos, true_neg, false_pos, false_neg = 0, 0, 0, 0\n",
    "    \n",
    "    for data in data_loader:\n",
    "        input_ids = data[\"input_ids\"].to(device)\n",
    "        attention_mask = data[\"attention_mask\"].to(device)\n",
    "        targets = data[\"target\"].to(device)\n",
    "        \n",
    "        outputs = model(input_ids=input_ids, attention_mask=attention_mask)\n",
    "        _, preds = torch.max(outputs, dim=1)\n",
    "        loss = loss_function(outputs, targets)\n",
    "        \n",
    "        for p, t in zip(preds, targets):\n",
    "            if p == 1 and t == 1:\n",
    "                true_pos += 1\n",
    "            if p == 0 and t == 0:\n",
    "                true_neg += 1\n",
    "            if p == 1 and t == 0:\n",
    "                false_pos += 1\n",
    "            if p == 0 and t == 1:\n",
    "                false_neg += 1\n",
    "        \n",
    "        correct_predictions += torch.sum(preds == targets)\n",
    "        losses.append(loss.item())\n",
    "        \n",
    "        loss.backward()\n",
    "        nn.utils.clip_grad_norm_(model.parameters(), max_norm=1.0)\n",
    "        optimizer.step()\n",
    "        scheduler.step()\n",
    "        optimizer.zero_grad()\n",
    "        \n",
    "    recall = true_pos / float(true_pos + false_neg)\n",
    "    precision = true_pos / float(true_pos + false_pos)\n",
    "    f1 = 2 * precision * recall / (precision + recall)\n",
    "    accuracy = (true_pos + true_neg) / float(n_examples)\n",
    "        \n",
    "    return accuracy, f1, np.mean(losses)"
   ]
  },
  {
   "cell_type": "code",
   "execution_count": 25,
   "metadata": {},
   "outputs": [],
   "source": [
    "def eval_albert(model, data_loader, loss_function, device, n_examples):\n",
    "    model = model.eval()\n",
    "    \n",
    "    losses = []\n",
    "    correct_predictions = 0\n",
    "    true_pos, true_neg, false_pos, false_neg = 0, 0, 0, 0\n",
    "    \n",
    "    with torch.no_grad():\n",
    "        for data in data_loader:\n",
    "            input_ids = data[\"input_ids\"].to(device)\n",
    "            attention_mask = data[\"attention_mask\"].to(device)\n",
    "            targets = data[\"target\"].to(device)\n",
    "\n",
    "            outputs = model(input_ids=input_ids, attention_mask=attention_mask)\n",
    "            _, preds = torch.max(outputs, dim=1)\n",
    "            loss = loss_function(outputs, targets)\n",
    "\n",
    "            correct_predictions += torch.sum(preds == targets)\n",
    "            losses.append(loss.item())\n",
    "            \n",
    "            for p, t in zip(preds, targets):\n",
    "                if p == 1 and t == 1:\n",
    "                    true_pos += 1\n",
    "                if p == 0 and t == 0:\n",
    "                    true_neg += 1\n",
    "                if p == 1 and t == 0:\n",
    "                    false_pos += 1\n",
    "                if p == 0 and t == 1:\n",
    "                    false_neg += 1\n",
    "                    \n",
    "    recall = true_pos / float(true_pos + false_neg)\n",
    "    precision = true_pos / float(true_pos + false_pos)\n",
    "    f1 = 2 * precision * recall / (precision + recall)\n",
    "    accuracy = (true_pos + true_neg) / float(n_examples)\n",
    "\n",
    "    return accuracy, f1, np.mean(losses)"
   ]
  },
  {
   "cell_type": "code",
   "execution_count": 26,
   "metadata": {},
   "outputs": [
    {
     "name": "stdout",
     "output_type": "stream",
     "text": [
      "====================\n",
      "Epoch 1/4\n",
      "    Train loss: 0.6297945954478704\n",
      "    Train accuracy: 0.6544011544011544\n",
      "    Train f1: 0.7179587831207065\n",
      "\n",
      "    Validation loss: 0.6489974301436852\n",
      "    Validation accuracy: 0.6277056277056277\n",
      "    Validation f1: 0.7569477154969384\n",
      "\n",
      "====================\n",
      "Epoch 2/4\n",
      "    Train loss: 0.6289952095884543\n",
      "    Train accuracy: 0.6685906685906686\n",
      "    Train f1: 0.744103992571959\n",
      "\n",
      "    Validation loss: 0.6304132993193878\n",
      "    Validation accuracy: 0.6551226551226551\n",
      "    Validation f1: 0.6855263157894738\n",
      "\n",
      "====================\n",
      "Epoch 3/4\n",
      "    Train loss: 0.6164860569513761\n",
      "    Train accuracy: 0.6802549302549302\n",
      "    Train f1: 0.7370190881218475\n",
      "\n",
      "    Validation loss: 0.6178287969923567\n",
      "    Validation accuracy: 0.6605339105339105\n",
      "    Validation f1: 0.6870635184569338\n",
      "\n",
      "====================\n",
      "Epoch 4/4\n",
      "    Train loss: 0.600344109764466\n",
      "    Train accuracy: 0.7026214526214526\n",
      "    Train f1: 0.7649909721562291\n",
      "\n",
      "    Validation loss: 0.5942289610018675\n",
      "    Validation accuracy: 0.7124819624819625\n",
      "    Validation f1: 0.7775607033212392\n",
      "\n",
      "Wall time: 3min 30s\n"
     ]
    }
   ],
   "source": [
    "%%time\n",
    "\n",
    "history = defaultdict(list)\n",
    "best_f1 = 0\n",
    "path = r\"C:\\Users\\YangWang\\Desktop\\Text_Classifier_for_UtaPass_and_KKBOX\\notebook\\Modelling\\BERT\\checkpoint\\best_albert.bin\"\n",
    "\n",
    "for epoch in range(EPOCHS):\n",
    "    print(\"=\" * 20)\n",
    "    print(\"Epoch {}/{}\".format(epoch+1, EPOCHS))\n",
    "    \n",
    "    train_acc, train_f1, train_loss = train_albert(\n",
    "        model, train_dataloader, loss_function, optimizer, device, scheduler, len(df_train))\n",
    "    \n",
    "    print(\"    Train loss: {}\".format(train_loss))\n",
    "    print(\"    Train accuracy: {}\".format(train_acc))\n",
    "    print(\"    Train f1: {}\\n\".format(train_f1))\n",
    "    \n",
    "    val_acc, val_f1, val_loss = eval_albert(\n",
    "        model, val_dataloader, loss_function, device, len(df_val))\n",
    "    \n",
    "    print(\"    Validation loss: {}\".format(val_loss))\n",
    "    print(\"    Validation accuracy: {}\".format(val_acc))\n",
    "    print(\"    Validation f1: {}\\n\".format(val_f1))\n",
    "    \n",
    "    history[\"train_f1\"].append(train_f1)\n",
    "    history[\"train_acc\"].append(train_acc)\n",
    "    history[\"train_loss\"].append(train_loss)\n",
    "    history[\"val_f1\"].append(val_f1)\n",
    "    history[\"val_acc\"].append(val_acc)\n",
    "    history[\"val_loss\"].append(val_loss)\n",
    "    \n",
    "    \n",
    "    if val_f1 > best_f1:\n",
    "        torch.save(model.state_dict(), path)\n",
    "        best_f1 = val_f1"
   ]
  },
  {
   "cell_type": "code",
   "execution_count": 27,
   "metadata": {},
   "outputs": [
    {
     "data": {
      "image/png": "[encoded data removed]",
      "text/plain": [
       "<Figure size 1440x576 with 1 Axes>"
      ]
     },
     "metadata": {
      "needs_background": "light"
     },
     "output_type": "display_data"
    }
   ],
   "source": [
    "plt.figure(figsize=(20, 8))\n",
    "plt.plot(history[\"train_acc\"], label=\"train accuracy\")\n",
    "plt.plot(history[\"val_acc\"], label=\"validation accuracy\")\n",
    "plt.title(\"Training History\")\n",
    "plt.ylabel(\"Accuracy\")\n",
    "plt.xlabel(\"Epoch\")\n",
    "plt.ylim([0, 1])\n",
    "plt.legend()\n",
    "plt.grid()"
   ]
  },
  {
   "cell_type": "code",
   "execution_count": 28,
   "metadata": {},
   "outputs": [
    {
     "data": {
      "image/png": "[encoded data removed]",
      "text/plain": [
       "<Figure size 1440x576 with 1 Axes>"
      ]
     },
     "metadata": {
      "needs_background": "light"
     },
     "output_type": "display_data"
    }
   ],
   "source": [
    "plt.figure(figsize=(20, 8))\n",
    "plt.plot(history[\"train_f1\"], label=\"train f1\")\n",
    "plt.plot(history[\"val_f1\"], label=\"validation f1\")\n",
    "plt.title(\"Training History\")\n",
    "plt.ylabel(\"F1 Score\")\n",
    "plt.xlabel(\"Epoch\")\n",
    "plt.ylim([0, 1])\n",
    "plt.legend()\n",
    "plt.grid()"
   ]
  },
  {
   "cell_type": "code",
   "execution_count": 29,
   "metadata": {},
   "outputs": [
    {
     "data": {
      "image/png": "[encoded data removed]",
      "text/plain": [
       "<Figure size 1440x576 with 1 Axes>"
      ]
     },
     "metadata": {
      "needs_background": "light"
     },
     "output_type": "display_data"
    }
   ],
   "source": [
    "plt.figure(figsize=(20, 8))\n",
    "plt.plot(history[\"train_loss\"], label=\"train loss\")\n",
    "plt.plot(history[\"val_loss\"], label=\"validation loss\")\n",
    "plt.title(\"Training History\")\n",
    "plt.ylabel(\"Loss\")\n",
    "plt.xlabel(\"Epoch\")\n",
    "plt.ylim([0, 1])\n",
    "plt.legend()\n",
    "plt.grid()"
   ]
  },
  {
   "cell_type": "code",
   "execution_count": 30,
   "metadata": {},
   "outputs": [
    {
     "name": "stdout",
     "output_type": "stream",
     "text": [
      "0.709340064911648\n",
      "0.7766075388026606\n"
     ]
    }
   ],
   "source": [
    "test_acc, test_f1, _ = eval_albert(\n",
    "    model, test_dataloader, loss_function, device, len(df_test))\n",
    "print(test_acc)\n",
    "print(test_f1)"
   ]
  },
  {
   "cell_type": "code",
   "execution_count": 31,
   "metadata": {},
   "outputs": [],
   "source": [
    "def get_predictions(model, data_loader):\n",
    "    model = model.eval()\n",
    "    \n",
    "    reviews_texts = []\n",
    "    predictions = []\n",
    "    prediction_probs = []\n",
    "    real_values = []\n",
    "    \n",
    "    with torch.no_grad():\n",
    "        for data in data_loader:\n",
    "            texts = data[\"review_text\"]\n",
    "            input_ids = data[\"input_ids\"].to(device)\n",
    "            attention_mask = data[\"attention_mask\"].to(device)\n",
    "            targets = data[\"target\"].to(device)\n",
    "\n",
    "            outputs = model(input_ids=input_ids, attention_mask=attention_mask)\n",
    "            _, preds = torch.max(outputs, dim=1)\n",
    "            \n",
    "            reviews_texts.extend(texts)\n",
    "            predictions.extend(preds)\n",
    "            prediction_probs.extend(outputs)\n",
    "            real_values.extend(targets)\n",
    "            \n",
    "    predictions = torch.stack(predictions).cpu()\n",
    "    prediction_probs = torch.stack(prediction_probs).cpu()\n",
    "    real_values = torch.stack(real_values).cpu()\n",
    "    \n",
    "    return reviews_texts, predictions, prediction_probs, real_values"
   ]
  },
  {
   "cell_type": "code",
   "execution_count": 32,
   "metadata": {},
   "outputs": [
    {
     "name": "stdout",
     "output_type": "stream",
     "text": [
      "              precision    recall  f1-score   support\n",
      "\n",
      "    negative       0.67      0.52      0.58      1097\n",
      "    positive       0.73      0.84      0.78      1676\n",
      "\n",
      "    accuracy                           0.71      2773\n",
      "   macro avg       0.70      0.68      0.68      2773\n",
      "weighted avg       0.70      0.71      0.70      2773\n",
      "\n"
     ]
    }
   ],
   "source": [
    "y_reviews_texts, y_pred, y_pred_probs, y_test = get_predictions(model, test_dataloader)\n",
    "print(classification_report(y_test, y_pred, target_names=class_name, zero_division=0))"
   ]
  },
  {
   "cell_type": "code",
   "execution_count": 33,
   "metadata": {},
   "outputs": [],
   "source": [
    "def plot_confusion_matrix(y_test, y_pred):\n",
    "    cm = confusion_matrix(y_test, y_pred)\n",
    "    df_cm = pd.DataFrame(cm, index=class_name, columns=class_name)\n",
    "    plt.figure(figsize=(10, 8))\n",
    "    hmap = sns.heatmap(cm, annot=True, fmt=\"d\", cmap=\"Blues\")\n",
    "    hmap.yaxis.set_ticklabels(hmap.yaxis.get_ticklabels(), rotation=0, ha=\"right\")\n",
    "    hmap.xaxis.set_ticklabels(hmap.xaxis.get_ticklabels(), rotation=0, ha=\"right\")\n",
    "    plt.xlabel(\"Predicted Sentiment\")\n",
    "    plt.ylabel(\"Target Sentiment\")\n",
    "    plt.show()"
   ]
  },
  {
   "cell_type": "code",
   "execution_count": 34,
   "metadata": {},
   "outputs": [
    {
     "data": {
      "image/png": "[encoded data removed]",
      "text/plain": [
       "<Figure size 720x576 with 2 Axes>"
      ]
     },
     "metadata": {
      "needs_background": "light"
     },
     "output_type": "display_data"
    }
   ],
   "source": [
    "plot_confusion_matrix(y_test, y_pred)"
   ]
  },
  {
   "cell_type": "code",
   "execution_count": 35,
   "metadata": {},
   "outputs": [],
   "source": [
    "# model = SentimentClassifier(len(class_name))\n",
    "# model.load_state_dict(torch.load(\"model_state_dict.bin\", map_location=device))"
   ]
  },
  {
   "cell_type": "code",
   "execution_count": null,
   "metadata": {},
   "outputs": [],
   "source": []
  }
 ],
 "metadata": {
  "kernelspec": {
   "display_name": "nlp",
   "language": "python",
   "name": "nlp"
  },
  "language_info": {
   "codemirror_mode": {
    "name": "ipython",
    "version": 3
   },
   "file_extension": ".py",
   "mimetype": "text/x-python",
   "name": "python",
   "nbconvert_exporter": "python",
   "pygments_lexer": "ipython3",
   "version": "3.7.3"
  }
 },
 "nbformat": 4,
 "nbformat_minor": 4
}
