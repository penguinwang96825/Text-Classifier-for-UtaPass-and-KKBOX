{
 "cells": [
  {
   "cell_type": "code",
   "execution_count": 1,
   "metadata": {},
   "outputs": [],
   "source": [
    "import re\n",
    "import MeCab\n",
    "import jaconv\n",
    "import emoji\n",
    "import numpy as np\n",
    "import pandas as pd\n",
    "import matplotlib.pyplot as plt\n",
    "import plotly.express as px\n",
    "import seaborn as sns\n",
    "from pandas.core.common import flatten\n",
    "from sklearn.feature_extraction.text import CountVectorizer\n",
    "from sklearn.feature_extraction.text import TfidfVectorizer\n",
    "from sklearn.naive_bayes import GaussianNB\n",
    "from sklearn.naive_bayes import MultinomialNB\n",
    "from sklearn.naive_bayes import BernoulliNB\n",
    "from sklearn.model_selection import train_test_split\n",
    "from sklearn.metrics import confusion_matrix\n",
    "from sklearn.metrics import f1_score\n",
    "from sklearn.metrics import roc_auc_score\n",
    "from collections import Counter\n",
    "from collections import defaultdict\n",
    "\n",
    "plt.style.use('seaborn-paper')"
   ]
  },
  {
   "cell_type": "code",
   "execution_count": 3,
   "metadata": {},
   "outputs": [],
   "source": [
    "df = pd.read_csv(\n",
    "    r\"C:\\Users\\YangWang\\Desktop\\UtaPass_KKBOX_Classifier\\data\\all_20200423.csv\")\n",
    "df = df[[\"content\", \"rating\"]]\n",
    "df = df.dropna(axis=0)\n",
    "df.columns = [\"content\", \"label\"]\n",
    "df[\"content\"] = df[\"content\"].apply(str)\n",
    "df[\"length\"] = df[\"content\"].map(len)\n",
    "df[\"label\"] = df[\"label\"].apply(int)\n",
    "df[\"label\"] = df[\"label\"].map(lambda x: 1 if int(x)>=4 else 0)\n",
    "df[\"posneg\"] = df[\"label\"].map(lambda x: \"Negative\" if x==0 else \"Positive\")"
   ]
  },
  {
   "cell_type": "code",
   "execution_count": 4,
   "metadata": {},
   "outputs": [
    {
     "data": {
      "text/html": [
       "<div>\n",
       "<style scoped>\n",
       "    .dataframe tbody tr th:only-of-type {\n",
       "        vertical-align: middle;\n",
       "    }\n",
       "\n",
       "    .dataframe tbody tr th {\n",
       "        vertical-align: top;\n",
       "    }\n",
       "\n",
       "    .dataframe thead th {\n",
       "        text-align: right;\n",
       "    }\n",
       "</style>\n",
       "<table border=\"1\" class=\"dataframe\">\n",
       "  <thead>\n",
       "    <tr style=\"text-align: right;\">\n",
       "      <th></th>\n",
       "      <th>content</th>\n",
       "      <th>label</th>\n",
       "      <th>length</th>\n",
       "      <th>posneg</th>\n",
       "    </tr>\n",
       "  </thead>\n",
       "  <tbody>\n",
       "    <tr>\n",
       "      <th>0</th>\n",
       "      <td>アプリをダウンロードしたばかりで、バックグラウンドで聴いています。星の理由は曲のダウンロード...</td>\n",
       "      <td>0</td>\n",
       "      <td>211</td>\n",
       "      <td>Negative</td>\n",
       "    </tr>\n",
       "    <tr>\n",
       "      <th>2</th>\n",
       "      <td>ダウンロードはネットが必要ですが、その後はオフラインで聞くことが出来てとても便利です。 オフ...</td>\n",
       "      <td>1</td>\n",
       "      <td>172</td>\n",
       "      <td>Positive</td>\n",
       "    </tr>\n",
       "    <tr>\n",
       "      <th>3</th>\n",
       "      <td>広告をあまり見たくない方は、下のタブにある本人→右上のアイコンを押すと、30秒間の広告を見る...</td>\n",
       "      <td>1</td>\n",
       "      <td>124</td>\n",
       "      <td>Positive</td>\n",
       "    </tr>\n",
       "    <tr>\n",
       "      <th>4</th>\n",
       "      <td>音楽をダウンロードしようと思ったら、ダウンロードマークが無くて、追加しかない状態だった。その...</td>\n",
       "      <td>0</td>\n",
       "      <td>121</td>\n",
       "      <td>Negative</td>\n",
       "    </tr>\n",
       "    <tr>\n",
       "      <th>5</th>\n",
       "      <td>個人の感想ですが、色々な曲が聞けて使いやすいし、とても便利なアプリだと思います ですが、歌詞...</td>\n",
       "      <td>1</td>\n",
       "      <td>120</td>\n",
       "      <td>Positive</td>\n",
       "    </tr>\n",
       "  </tbody>\n",
       "</table>\n",
       "</div>"
      ],
      "text/plain": [
       "                                             content  label  length    posneg\n",
       "0  アプリをダウンロードしたばかりで、バックグラウンドで聴いています。星の理由は曲のダウンロード...      0     211  Negative\n",
       "2  ダウンロードはネットが必要ですが、その後はオフラインで聞くことが出来てとても便利です。 オフ...      1     172  Positive\n",
       "3  広告をあまり見たくない方は、下のタブにある本人→右上のアイコンを押すと、30秒間の広告を見る...      1     124  Positive\n",
       "4  音楽をダウンロードしようと思ったら、ダウンロードマークが無くて、追加しかない状態だった。その...      0     121  Negative\n",
       "5  個人の感想ですが、色々な曲が聞けて使いやすいし、とても便利なアプリだと思います ですが、歌詞...      1     120  Positive"
      ]
     },
     "execution_count": 4,
     "metadata": {},
     "output_type": "execute_result"
    }
   ],
   "source": [
    "df.head()"
   ]
  },
  {
   "cell_type": "code",
   "execution_count": 5,
   "metadata": {},
   "outputs": [
    {
     "data": {
      "image/png": "[encoded data removed]",
      "text/plain": [
       "<Figure size 720x288 with 1 Axes>"
      ]
     },
     "metadata": {
      "needs_background": "light"
     },
     "output_type": "display_data"
    }
   ],
   "source": [
    "plt.figure(figsize=(10, 4))\n",
    "sns.countplot(df.label, )\n",
    "plt.xlabel(\"Label Count\")\n",
    "plt.grid(axis=\"y\")"
   ]
  },
  {
   "cell_type": "code",
   "execution_count": 6,
   "metadata": {},
   "outputs": [
    {
     "name": "stdout",
     "output_type": "stream",
     "text": [
      "Train Size:  (11088, 4)\n",
      "Test Size:  (2773, 4)\n"
     ]
    }
   ],
   "source": [
    "train, test = train_test_split(df, test_size=0.2, random_state=17)\n",
    "\n",
    "print(\"Train Size: \", train.shape)\n",
    "print(\"Test Size: \", test.shape)"
   ]
  },
  {
   "cell_type": "code",
   "execution_count": 10,
   "metadata": {},
   "outputs": [],
   "source": [
    "def create_mecab_list(text):\n",
    "    pos_list = [10, 11, 31, 32, 34]\n",
    "    pos_list.extend(list(range(36,50)))\n",
    "    pos_list.extend([59, 60, 62, 67])\n",
    "\n",
    "    mecab_list = []\n",
    "    mecab = MeCab.Tagger(\"-Ochasen\")\n",
    "    mecab.parse(\"\")\n",
    "    # encoding = text.encode('utf-8')\n",
    "    node = mecab.parseToNode(text)\n",
    "    while node:\n",
    "        if len(node.surface) > 1:\n",
    "            if node.posid in pos_list:\n",
    "                morpheme = node.surface\n",
    "                mecab_list.append(morpheme)\n",
    "        node = node.next\n",
    "    return mecab_list\n",
    "\n",
    "def remove_stopwords(text):\n",
    "    stopwords = pd.read_csv(r\"C:/Users/YangWang/Desktop/UtaPass_KKBOX_Classifier/Japanese_stopword_list.txt\", \n",
    "                    encoding=\"utf-8\", header=None, sep=\"\\n\")\n",
    "    punctuation = \"0123456789/%<>(◒)!(~▽~@)!!?♪＊※□╬@!ﾟ、!;。￢】:+！？?,,ーﾟﾟﾟ→#).'°☆'°☆＾＼(^-^／(*⌒∇⌒*-^／(^-^('∀'*((*__((｡\\\n",
    "                  ´･((∩´︶`∩(&\"\n",
    "    puncts = [',', '.', '\"', ':', ')', '(', '-', '!', '?', '|', ';', \"'\", '$', '&', '/', '[', ']', '>', '%', '=', '#', \n",
    "              '*', '+', '\\\\', '•',  '~', '@', '£', '·', '_', '{', '}', '©', '^', '®', '`',  '<', '→', '°', '€', '™', '›', \n",
    "              '♥', '←', '×', '§', '″', '′', 'Â', '█', '½', 'à', '…', '\\n', '\\xa0', '\\t', '“', '★', '”', '–', '●', 'â', \n",
    "              '►', '−', '¢', '²', '¬', '░', '¶', '↑', '±', '¿', '▾', '═', '¦', '║', '―', '¥', '▓', '—', '‹', '─', \n",
    "              '\\u3000', '\\u202f', '▒', '：', '¼', '⊕', '▼', '▪', '†', '■', '’', '▀', '¨', '▄', '♫', '☆', 'é', '¯', \n",
    "              '♦', '¤', '▲', 'è', '¸', '¾', 'Ã', '⋅', '‘', '∞', '«', '∙', '）', '↓', '、', '│', '（', '»', '，', '♪', \n",
    "              '╩', '╚', '³', '・', '╦', '╣', '╔', '╗', '▬', '❤', 'ï', 'Ø', '¹', '≤', '‡', '√', ]\n",
    "    stopwords = list(flatten(stopwords.values.tolist()))\n",
    "    punctuation = list(punctuation)\n",
    "    hankaku = '0,1,2,3,4,5,6,7,8,9,q,a,z,w,s,x,c,d,e,r,f,v,b,g,t,y,h,n,m,j,u,i,k,l,o,p'.split(',')\n",
    "    for r in hankaku:\n",
    "        text = text.replace(str(r), '')\n",
    "    filtered_words = [word for word in text if word not in (stopwords+punctuation+puncts)]\n",
    "    return \"\".join(filtered_words)\n",
    "\n",
    "def remove_spaces(text):\n",
    "    spaces = ['\\u200b', '\\u200e', '\\u202a', '\\u2009', '\\u2028', '\\u202c', '\\ufeff', '\\uf0d8', '\\u2061', \n",
    "              '\\u3000', '\\x10', '\\x7f', '\\x9d', '\\xad', '\\x97', '\\x9c', '\\x8b', '\\x81', '\\x80', '\\x8c', \n",
    "              '\\x85', '\\x92', '\\x88', '\\x8d', '\\x80', '\\x8e', '\\x9a', '\\x94', '\\xa0', '\\x8f', '\\x82', \n",
    "              '\\x8a', '\\x93', '\\x90', '\\x83', '\\x96', '\\x9b', '\\x9e', '\\x99', '\\x87', '\\x84', '\\x9f',]\n",
    "    for space in spaces:\n",
    "        text = text.replace(space, ' ')\n",
    "    return text\n",
    "\n",
    "def replace_num(text):\n",
    "    text = re.sub('[0-9]{1, 10}', '', text)\n",
    "    text = re.sub('[0-9]{4}', '', text)\n",
    "    text = re.sub('[0-9]{3}', '', text)\n",
    "    text = re.sub('[0-9]{2}', '', text)\n",
    "    return text\n",
    "\n",
    "def katakana2hiragana(text):\n",
    "    text = jaconv.normalize(text, 'NFKC')\n",
    "    text = jaconv.kata2hira(text)\n",
    "    return jaconv.h2z(text)\n",
    "\n",
    "def give_emoji_free_text(text):\n",
    "    allchars = [string for string in text]\n",
    "    emoji_list = [c for c in allchars if c in emoji.UNICODE_EMOJI]\n",
    "    cleaned_text = ''.join([str for str in text.split() if not any(i in str for i in emoji_list)])\n",
    "    return cleaned_text\n",
    "\n",
    "def tokenize(text):\n",
    "    text = give_emoji_free_text(text)\n",
    "    text = remove_spaces(text)\n",
    "    text = replace_num(text)\n",
    "    text = remove_stopwords(text)\n",
    "    text = katakana2hiragana(text)\n",
    "    text_list = create_mecab_list(text)\n",
    "    return text_list"
   ]
  },
  {
   "cell_type": "code",
   "execution_count": 11,
   "metadata": {},
   "outputs": [],
   "source": [
    "pd.set_option(\"display.max_column\", 30)\n",
    "vectorizer = CountVectorizer(tokenizer=tokenize, token_pattern=None)\n",
    "train_matrix = vectorizer.fit_transform(train.content)\n",
    "df_train = pd.DataFrame(train_matrix.toarray(), columns=vectorizer.get_feature_names())"
   ]
  },
  {
   "cell_type": "code",
   "execution_count": 12,
   "metadata": {},
   "outputs": [
    {
     "data": {
      "text/plain": [
       "BernoulliNB(alpha=1.0, binarize=0.0, class_prior=None, fit_prior=True)"
      ]
     },
     "execution_count": 12,
     "metadata": {},
     "output_type": "execute_result"
    }
   ],
   "source": [
    "MNB_model = MultinomialNB()\n",
    "MNB_model.fit(df_train, train[\"label\"])\n",
    "\n",
    "GNB_model = GaussianNB()\n",
    "GNB_model.fit(df_train, train[\"label\"])\n",
    "\n",
    "BNB_model = BernoulliNB()\n",
    "BNB_model.fit(df_train, train[\"label\"])"
   ]
  },
  {
   "cell_type": "code",
   "execution_count": 14,
   "metadata": {},
   "outputs": [],
   "source": [
    "def get_performance(prediciton, test):\n",
    "    true_pos, true_neg, false_pos, false_neg = 0, 0, 0, 0\n",
    "    for p, t in zip(prediciton.tolist(), test.label.tolist()):\n",
    "        if p == 1 and t == 1:\n",
    "            true_pos += 1\n",
    "        if p == 0 and t == 0:\n",
    "            true_neg += 1\n",
    "        if p == 1 and t == 0:\n",
    "            false_pos += 1\n",
    "        if p == 0 and t == 1:\n",
    "            false_neg += 1\n",
    "    recall = true_pos / float(true_pos + false_neg)\n",
    "    precision = true_pos / float(true_pos + false_pos)\n",
    "    f1 = 2 * precision * recall / (precision + recall)\n",
    "    accuracy = (true_pos + true_neg) / float(len(test.label.tolist()))\n",
    "    \n",
    "    return f1, accuracy"
   ]
  },
  {
   "cell_type": "code",
   "execution_count": 16,
   "metadata": {},
   "outputs": [
    {
     "name": "stdout",
     "output_type": "stream",
     "text": [
      "========== Naive Bayes ==========\n",
      "Accuracy:  0.7904796249549225\n",
      "F1 Score:  0.8357364998586374\n"
     ]
    }
   ],
   "source": [
    "test_matrix = vectorizer.transform(test.content)\n",
    "prediciton = MNB_model.predict(test_matrix)\n",
    "f1, accuracy = get_performance(prediciton, test)\n",
    "print(\"=\"*10, \"Naive Bayes\", \"=\"*10)\n",
    "print(\"Accuracy: \", accuracy)\n",
    "print(\"F1 Score: \", f1)"
   ]
  },
  {
   "cell_type": "code",
   "execution_count": 20,
   "metadata": {},
   "outputs": [
    {
     "name": "stdout",
     "output_type": "stream",
     "text": [
      "========== Gaussian Bayes ==========\n",
      "Accuracy:  0.6606563288856834\n",
      "F1 Score:  0.7689663638595631\n"
     ]
    }
   ],
   "source": [
    "test_matrix = vectorizer.transform(test.content)\n",
    "prediciton = GNB_model.predict(test_matrix.toarray())\n",
    "f1, accuracy = get_performance(prediciton, test)\n",
    "print(\"=\"*10, \"Gaussian Bayes\", \"=\"*10)\n",
    "print(\"Accuracy: \", accuracy)\n",
    "print(\"F1 Score: \", f1)"
   ]
  },
  {
   "cell_type": "code",
   "execution_count": 21,
   "metadata": {},
   "outputs": [
    {
     "name": "stdout",
     "output_type": "stream",
     "text": [
      "========== Bernoulli Bayes ==========\n",
      "Accuracy:  0.7540569780021638\n",
      "F1 Score:  0.817256162915327\n"
     ]
    }
   ],
   "source": [
    "test_matrix = vectorizer.transform(test.content)\n",
    "prediciton = BNB_model.predict(test_matrix)\n",
    "f1, accuracy = get_performance(prediciton, test)\n",
    "print(\"=\"*10, \"Bernoulli Bayes\", \"=\"*10)\n",
    "print(\"Accuracy: \", accuracy)\n",
    "print(\"F1 Score: \", f1)"
   ]
  },
  {
   "cell_type": "code",
   "execution_count": null,
   "metadata": {},
   "outputs": [],
   "source": []
  }
 ],
 "metadata": {
  "kernelspec": {
   "display_name": "nlp",
   "language": "python",
   "name": "nlp"
  },
  "language_info": {
   "codemirror_mode": {
    "name": "ipython",
    "version": 3
   },
   "file_extension": ".py",
   "mimetype": "text/x-python",
   "name": "python",
   "nbconvert_exporter": "python",
   "pygments_lexer": "ipython3",
   "version": "3.7.3"
  }
 },
 "nbformat": 4,
 "nbformat_minor": 4
}
